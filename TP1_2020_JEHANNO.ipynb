{
 "cells": [
  {
   "cell_type": "markdown",
   "metadata": {
    "colab_type": "text",
    "id": "view-in-github"
   },
   "source": [
    "<a href=\"https://colab.research.google.com/github/EmmanuelJhno/Reinforcement_learning/blob/master/TP1_2020.ipynb\" target=\"_parent\"><img src=\"https://colab.research.google.com/assets/colab-badge.svg\" alt=\"Open In Colab\"/></a>"
   ]
  },
  {
   "cell_type": "markdown",
   "metadata": {
    "colab_type": "text",
    "id": "8NxgP4gIN5eF"
   },
   "source": [
    "**Recycling robot example** (from Sutton, page 42)\n",
    "References:\n",
    "  - Gym documentation: https://gym.openai.com/\n",
    "\n",
    "  "
   ]
  },
  {
   "cell_type": "code",
   "execution_count": 0,
   "metadata": {
    "colab": {},
    "colab_type": "code",
    "id": "fQ-0sEtFFcTM"
   },
   "outputs": [],
   "source": [
    "import numpy as np\n",
    "from gym.envs.toy_text import discrete\n",
    "import random\n",
    "import matplotlib.pyplot as plt"
   ]
  },
  {
   "cell_type": "markdown",
   "metadata": {
    "colab_type": "text",
    "id": "yxqvSR70sjiC"
   },
   "source": [
    "Gym provides an environment to compare reinforcement learning algorithms. We provide the code and it provides the game and visualizations."
   ]
  },
  {
   "cell_type": "markdown",
   "metadata": {
    "colab_type": "text",
    "id": "GPaZiYtu6aX6"
   },
   "source": [
    "# Consider the robot model described in Barto and Sutton Example 3.2"
   ]
  },
  {
   "cell_type": "code",
   "execution_count": 0,
   "metadata": {
    "colab": {},
    "colab_type": "code",
    "id": "U96qJdswGBFr"
   },
   "outputs": [],
   "source": [
    "states = [\"high\", \"low\"]\n",
    "actions = [\"wait\", \"search\", \"recharge\"]\n",
    "\n",
    "P = {}\n",
    "\n",
    "P[0] = {}\n",
    "P[1] = {}\n",
    "\n",
    "alpha = 1\n",
    "beta = 1\n",
    "r_wait = 0.5\n",
    "r_search = 2.0\n",
    "\n",
    "# We define a discrete environment with the corresponding transitions\n",
    "def generar_ambiente(alpha=alpha, beta=beta, r_wait=r_wait, r_search=r_wait):\n",
    "    P[0][0] = [(1.0, 0, r_wait, False)]\n",
    "    P[0][1] = [(alpha, 0, r_search, False),\n",
    "               (1-alpha, 1, r_search, False)]\n",
    "    P[0][2] = [(1,0,0,False)]\n",
    "\n",
    "    P[1][0] = [(1.0, 1, r_wait, False)]\n",
    "    P[1][1] = [(beta, 1, r_search, False), \n",
    "               (1-beta, 0, -3.0, False)]\n",
    "    P[1][2] = [(1.0, 0, 0.0, False)]\n",
    "    env = discrete.DiscreteEnv(2, 3, P, [0.0, 1.0])\n",
    "    return(env)\n",
    "env = generar_ambiente()"
   ]
  },
  {
   "cell_type": "markdown",
   "metadata": {
    "colab_type": "text",
    "id": "vvcF7--Z6aX8"
   },
   "source": [
    "# Implement the random strategy for 20 steps"
   ]
  },
  {
   "cell_type": "markdown",
   "metadata": {
    "colab_type": "text",
    "id": "XoNiKgvOIC3n"
   },
   "source": [
    "Define a random action and see what reward it produces\n"
   ]
  },
  {
   "cell_type": "code",
   "execution_count": 0,
   "metadata": {
    "colab": {},
    "colab_type": "code",
    "id": "hUhab2hBs36G"
   },
   "outputs": [],
   "source": [
    "def random_action(states, actions):\n",
    "  return np.random.randint(0,len(actions))"
   ]
  },
  {
   "cell_type": "code",
   "execution_count": 0,
   "metadata": {
    "colab": {},
    "colab_type": "code",
    "id": "z6CJOQNmtSLc"
   },
   "outputs": [],
   "source": [
    "def train(env,epoch,prefix=''):\n",
    "\n",
    "    reward_history = [[] for _ in range(epoch)]\n",
    "\n",
    "    for e in range(1,epoch+1):\n",
    "        # At each epoch, we restart to a fresh game and get the initial state\n",
    "        state = env.reset()\n",
    "        # This assumes that the games will terminate\n",
    "        game_over = False\n",
    "\n",
    "        idx = 0\n",
    "        while idx <20 and not game_over:\n",
    "            # The agent performs an action\n",
    "            action = random_action(states, actions)\n",
    "\n",
    "            # Apply an action to the environment, get the next state, the reward\n",
    "            # and if the games end\n",
    "            state, reward, game_over, info = env.step(action)\n",
    "\n",
    "            reward_history[e-1].append(reward)\n",
    "\n",
    "            idx += 1\n",
    "\n",
    "        print(\"Epoch {:03d}/{:03d} | Global_reward {:.4f}\".format(e, epoch, sum(reward_history[e-1])))\n",
    "\n",
    "    return reward_history"
   ]
  },
  {
   "cell_type": "code",
   "execution_count": 5,
   "metadata": {
    "colab": {
     "base_uri": "https://localhost:8080/",
     "height": 187
    },
    "colab_type": "code",
    "id": "ucuXLgzquoDa",
    "outputId": "496be302-fdbc-4b81-affa-aec8058e1224"
   },
   "outputs": [
    {
     "name": "stdout",
     "output_type": "stream",
     "text": [
      "Epoch 001/010 | Global_reward 7.5000\n",
      "Epoch 002/010 | Global_reward 7.0000\n",
      "Epoch 003/010 | Global_reward 6.0000\n",
      "Epoch 004/010 | Global_reward 8.0000\n",
      "Epoch 005/010 | Global_reward 4.5000\n",
      "Epoch 006/010 | Global_reward 5.0000\n",
      "Epoch 007/010 | Global_reward 4.5000\n",
      "Epoch 008/010 | Global_reward 7.0000\n",
      "Epoch 009/010 | Global_reward 6.0000\n",
      "Epoch 010/010 | Global_reward 8.0000\n"
     ]
    }
   ],
   "source": [
    "reward_history = train(env,10)"
   ]
  },
  {
   "cell_type": "markdown",
   "metadata": {
    "colab_type": "text",
    "id": "u9kpyAEk6aYB"
   },
   "source": [
    "# Plot the global reward "
   ]
  },
  {
   "cell_type": "code",
   "execution_count": 6,
   "metadata": {
    "colab": {
     "base_uri": "https://localhost:8080/",
     "height": 780
    },
    "colab_type": "code",
    "id": "c-7E06GIvguk",
    "outputId": "3ac13bce-0bfa-43e0-8e2e-9e1297bbab9a"
   },
   "outputs": [
    {
     "data": {
      "image/png": "[encoded data removed]",
      "text/plain": [
       "<Figure size 1296x432 with 10 Axes>"
      ]
     },
     "metadata": {
      "tags": []
     },
     "output_type": "display_data"
    },
    {
     "name": "stdout",
     "output_type": "stream",
     "text": [
      "-----------------------------------------------------------------------------------------------------------------------------\n"
     ]
    },
    {
     "data": {
      "image/png": "[encoded data removed]",
      "text/plain": [
       "<Figure size 1296x432 with 10 Axes>"
      ]
     },
     "metadata": {
      "tags": []
     },
     "output_type": "display_data"
    }
   ],
   "source": [
    "fg, ax = plt.subplots(2, 5, figsize=(18,6)) \n",
    "for idx, hist in enumerate(reward_history):\n",
    "  ax[idx//5][idx%5].plot(range(len(hist)), hist)\n",
    "  ax[idx//5][idx%5].set_title('Run #{}'.format(idx))\n",
    "plt.show()\n",
    "\n",
    "print('-'*125)\n",
    "\n",
    "fg, ax = plt.subplots(2, 5, figsize=(18,6)) \n",
    "for idx, hist in enumerate(reward_history):\n",
    "  cumulative_hist = [sum(hist[:k+1]) for k in range(len(hist))]\n",
    "  ax[idx//5][idx%5].plot(range(len(hist)), cumulative_hist)\n",
    "  ax[idx//5][idx%5].set_title('Run #{} - Cumulative Reward'.format(idx))\n",
    "plt.show()"
   ]
  },
  {
   "cell_type": "markdown",
   "metadata": {
    "colab_type": "text",
    "id": "qC0PJOkV6aYH"
   },
   "source": [
    "# Compute theoretically the optimal value function for each state\n"
   ]
  },
  {
   "cell_type": "markdown",
   "metadata": {
    "colab_type": "text",
    "id": "fEHbfH9F1pPq"
   },
   "source": [
    "It appears that :\n",
    "- when at state 0, \n",
    "  - action 0 -> stay at 0 and reward=0.5\n",
    "  - action 1 -> stay at 0 and reward=0.5\n",
    "  - action 2 -> stay at 0 and reward=0\n",
    "- when at state 1, \n",
    "  - action 0 -> stay at 1 and reward=0.5\n",
    "  - action 1 -> stay at 1 and reward=0.5\n",
    "  - action 2 -> move to 0 and reward=0"
   ]
  },
  {
   "cell_type": "markdown",
   "metadata": {
    "colab_type": "text",
    "id": "WpoZDaCOAE8G"
   },
   "source": [
    "We have the following equation systems:\n",
    "\n",
    "$\n",
    "V^{*}(0) =  \\max \\left\\{\n",
    "  \\begin{align*}\n",
    "    & \\text{if} \\; a = 0: \\quad r_{wait} + \\gamma * V^{*}(0) \\\\\n",
    "    & \\text{if} \\; a = 1: \\quad r_{search} + \\gamma * (\\alpha * V^{*}(0) + (1 - \\alpha)*V^{*}(1)) \\\\\n",
    "    & \\text{if} \\; a = 2: \\quad \\gamma * V^{*}(0)\n",
    "  \\end{align*}\n",
    "  \\right.\n",
    "$\n",
    "\n",
    "\n",
    "$\n",
    "V^{*}(1) = \\max \\left\\{\n",
    "  \\begin{align*}\n",
    "    & \\text{if} \\; a = 0: \\quad r_{wait} + \\gamma * V^{*}(1) \\\\\n",
    "    & \\text{if} \\; a = 1: \\quad \\beta * (r_{search} + \\gamma * V^{*}(1)) + (1 - \\beta)*(-3 + \\gamma * V^{*}(0)) \\\\\n",
    "    & \\text{if} \\; a = 2: \\quad \\gamma * V^{*}(0)\n",
    "  \\end{align*}\n",
    "  \\right.\n",
    "$"
   ]
  },
  {
   "cell_type": "markdown",
   "metadata": {
    "colab_type": "text",
    "id": "DsX1O0PX__q4"
   },
   "source": [
    "$\\gamma$ being in $[0, 1)$, the $\\pi(0)=2$ case must be excluded.\n",
    "\n",
    "Solving the system yields, for each case:\n",
    "\n",
    "\n",
    "$\n",
    "\\begin{align*}\n",
    "    \\text{ Case 1: } \\quad \\pi(0|0) = 1 ; \\quad \\pi(0|1) = 1 :\\\\\n",
    "    & V^{*}(0) = \\frac{r_{wait}}{1 - \\gamma} \\\\ \n",
    "    & V^{*}(1) = \\frac{r_{wait}}{1 - \\gamma}\n",
    "\\end{align*}\n",
    "$\n",
    "\n",
    "$\n",
    "\\begin{align*}\n",
    "\\text{Case 2:} \\quad \\pi(1|0) = 1 ; \\quad \\pi(0|1) = 1 : \\\\ \\\\\n",
    "& V^{*}(0) = \\frac{(1-\\gamma)*r_{search} + (1-\\alpha)*\\gamma*r_{wait}}{(1-\\gamma)*(1-\\alpha*\\gamma)}\\\\\n",
    "& V^{*}(1) = \\frac{r_{wait}}{1 - \\gamma}\n",
    "\\end{align*}\n",
    "$\n",
    "\n",
    "\n",
    "$\n",
    "\\begin{align*}\n",
    "\\text{Case 3:} \\quad \\pi(0|0) = 1 ; \\quad \\pi(1|1) = 1 : \\\\ \\\\\n",
    "& V^{*}(0) = \\frac{r_{wait}}{1 - \\gamma} \\\\\n",
    "& V^{*}(1) = \\frac{(1-\\gamma)*\\beta*r_{search} -3*(1-\\beta)*(1-\\gamma) + \\gamma*(1-\\beta)*r_{wait}}{(1-\\gamma)*(1-\\beta*\\gamma)}\n",
    "\\end{align*}\n",
    "$\n",
    "\n",
    "$\n",
    "\\begin{align*}\n",
    "\\text{Case 4:} \\quad \\pi(1|0) = 1 ; \\quad \\pi(1|1) = 1 : \\\\ \\\\\n",
    "& V^{*}(0) = \\frac{r_{search}}{1-\\gamma\\alpha} +  \\frac{\\gamma(1-\\alpha)}{1-\\gamma\\alpha}\\frac{\\left[(1-\\gamma\\alpha)\\beta +\\gamma(1-\\beta)\\right]r_{search}-3(1-\\beta)(1-\\gamma\\alpha)}{(1-\\gamma\\beta)(1-\\gamma\\alpha) - \\gamma^2(1-\\beta)(1-\\alpha)}  \\\\\n",
    "& V^{*}(1) = \\frac{\\left[(1-\\gamma\\alpha)\\beta +\\gamma(1-\\beta)\\right]r_{search}-3(1-\\beta)(1-\\gamma\\alpha)}{(1-\\gamma\\beta)(1-\\gamma\\alpha) - \\gamma^2(1-\\beta)(1-\\alpha)}\n",
    "\\end{align*}\n",
    "$\n",
    "\n",
    "$\n",
    "\\begin{align*}\n",
    "\\text{Case 5:} \\quad \\pi(0|0) = 1 ; \\quad \\pi(2|1) = 1 : \\\\ \\\\\n",
    "& V^{*}(0) = \\frac{r_{wait}}{1 - \\gamma}\\\\\n",
    "& V^{*}(1) = \\gamma \\frac{r_{wait}}{1 - \\gamma}\n",
    "\\end{align*}\n",
    "$\n",
    "\n",
    "$\n",
    "\\begin{align*}\n",
    "\\text{Case 6:} \\quad \\pi(1|0) = 1 ; \\quad \\pi(2|1) = 1 : \\\\ \\\\\n",
    "& V^{*}(0) = \\frac{r_{wait}}{1 - \\gamma\\alpha -(1-\\alpha)\\gamma^2} \\\\\n",
    "& V^{*}(1) = \\gamma \\frac{r_{wait}}{1 - \\gamma\\alpha -(1-\\alpha)\\gamma^2} \n",
    "\\end{align*}\n",
    "$"
   ]
  },
  {
   "cell_type": "markdown",
   "metadata": {
    "colab_type": "text",
    "id": "ZRz0uMX1LbXz"
   },
   "source": [
    "# Implement Value Iteration"
   ]
  },
  {
   "cell_type": "markdown",
   "metadata": {
    "colab_type": "text",
    "id": "bVuBLOrWL1ru"
   },
   "source": [
    "  Evaluate the optimal value function given a full description of the environment dynamics\n",
    "  \n",
    "   "
   ]
  },
  {
   "cell_type": "code",
   "execution_count": 0,
   "metadata": {
    "colab": {},
    "colab_type": "code",
    "id": "XyTJUekY_Dnq"
   },
   "outputs": [],
   "source": [
    "def evaluate_value_func(env, theta, discount_factor, max_itr=10_000):\n",
    "    \"\"\"\n",
    "    Args:\n",
    "\n",
    "        env: OpenAI env. env.P represents the transition probabilities of the environment.\n",
    "            env.P[s][a] is a list of transition tuples (prob, next_state, reward, done).\n",
    "            env.nS is a number of states in the environment. \n",
    "            env.nA is a number of actions in the environment.\n",
    "        theta: We stop evaluation once our value function change is less than theta for all states.\n",
    "        discount_factor: Gamma discount factor.\n",
    "        max_itr: Maximum number of iterations in the fixed-point equation resolution\n",
    "\n",
    "    Returns:\n",
    "        Vector of length env.nS representing the value function.\n",
    "    \"\"\"\n",
    "    n_states = env.nS\n",
    "    n_actions = env.nA\n",
    "    Vn = np.zeros((n_states,))\n",
    "    Vnp1 = np.inf * np.ones((n_states,))\n",
    "    itr = 0\n",
    "\n",
    "    converged = False\n",
    "\n",
    "    while not converged and itr < max_itr:\n",
    "        for state in range(n_states):\n",
    "            best = -np.inf\n",
    "            for action in range(n_actions):\n",
    "                transitions = env.P[state][action]\n",
    "                value = 0\n",
    "                for prob, next_state, reward, _ in  transitions:\n",
    "                    value += prob*(reward + discount_factor * Vn[next_state])\n",
    "                if value > best:\n",
    "                    best = value\n",
    "            Vnp1[state] = best\n",
    "        converged = np.absolute(Vn - Vnp1).max() < theta\n",
    "        Vn = Vnp1\n",
    "        itr += 1\n",
    "    \n",
    "    return Vnp1"
   ]
  },
  {
   "cell_type": "code",
   "execution_count": 19,
   "metadata": {
    "colab": {
     "base_uri": "https://localhost:8080/",
     "height": 34
    },
    "colab_type": "code",
    "id": "4rLtr89vKngr",
    "outputId": "0ac3086b-995e-4893-dec3-ec4edcf9a2ab"
   },
   "outputs": [
    {
     "name": "stdout",
     "output_type": "stream",
     "text": [
      "Found V =  [0.95 0.95]\n"
     ]
    }
   ],
   "source": [
    "env = generar_ambiente()\n",
    "value_func = evaluate_value_func(env, theta=0.001, discount_factor=0.9)\n",
    "print(\"Found V = \", value_func)"
   ]
  },
  {
   "cell_type": "code",
   "execution_count": 20,
   "metadata": {
    "colab": {
     "base_uri": "https://localhost:8080/",
     "height": 34
    },
    "colab_type": "code",
    "id": "9ZKeg4rDOKf2",
    "outputId": "79e56a5f-3711-4beb-9760-8589f9ddffcb"
   },
   "outputs": [
    {
     "name": "stdout",
     "output_type": "stream",
     "text": [
      "Best associated policy : [0, 0]\n"
     ]
    }
   ],
   "source": [
    "policy = []\n",
    "for state in range(env.nS):\n",
    "  possible_rewards = []\n",
    "  best_reward = 0\n",
    "  for action in range(env.nA):\n",
    "    future = env.P[state][action]\n",
    "    rewards = [future[idx][0]*future[idx][2] for idx in range(len(future))]\n",
    "    future_rewards = [future[idx][0]*V[future[idx][1]] for idx in range(len(future))]\n",
    "    action_reward = sum(rewards) + discount_factor*sum(future_rewards)\n",
    "\n",
    "    if action_reward > best_reward:\n",
    "      best_reward = action_reward\n",
    "      best_action = action\n",
    "\n",
    "  policy.append(best_action)\n",
    "print('Best associated policy : {}'.format(policy))"
   ]
  },
  {
   "cell_type": "markdown",
   "metadata": {
    "colab_type": "text",
    "id": "KGWxWGNA6aYJ"
   },
   "source": [
    "# Implement policy iteration"
   ]
  },
  {
   "cell_type": "markdown",
   "metadata": {
    "colab_type": "text",
    "id": "f9o3S2kaKQKX"
   },
   "source": [
    "Then an policy optimisation function,\n",
    "\n",
    "```\n",
    "Evaluate a policy given an environment and a full description of the environment's dynamics.\n",
    "    \n",
    "    Args:\n",
    "        policy: [S, A] shaped matrix representing the policy.\n",
    "        env: OpenAI env. env.P represents the transition probabilities of the environment.\n",
    "            env.P[s][a] is a list of transition tuples (prob, next_state, reward, done).\n",
    "            env.nS is a number of states in the environment. \n",
    "            env.nA is a number of actions in the environment.\n",
    "        theta: We stop evaluation once our value function change is less than theta for all states.\n",
    "        discount_factor: Gamma discount factor.\n",
    "    \n",
    "    Returns:\n",
    "        Vector of length env.nS representing the value function.\n",
    "        \n",
    "```\n",
    "\n",
    "Despues una funcion de optimisacion de la politica:\n",
    "\n",
    "\n",
    "```\n",
    " Policy Improvement Algorithm. Iteratively evaluates and improves a policy\n",
    "    until an optimal policy is found.\n",
    "    \n",
    "    Args:\n",
    "        env: The OpenAI envrionment.\n",
    "        policy_eval_fn: Policy Evaluation function that takes 3 arguments:\n",
    "            policy, env, discount_factor.\n",
    "        discount_factor: gamma discount factor.\n",
    "        \n",
    "    Returns:\n",
    "        A tuple (policy, V). \n",
    "        policy is the optimal policy, a matrix of shape [S, A] where each state s\n",
    "        contains a valid probability distribution over actions.\n",
    "        V is the value function for the optimal policy.\n",
    "        \n",
    "```\n",
    "\n",
    "\n",
    "\n"
   ]
  },
  {
   "cell_type": "code",
   "execution_count": 0,
   "metadata": {
    "colab": {},
    "colab_type": "code",
    "id": "lXKijMhLAuUD"
   },
   "outputs": [],
   "source": [
    "def evaluate_policy(policy, env, theta, discount_factor, max_itr=10_000):\n",
    "    \"\"\"\n",
    "    Args:\n",
    "      policy: [S, A] shaped matrix representing the policy.\n",
    "      env: OpenAI env. env.P represents the transition probabilities of the environment.\n",
    "          env.P[s][a] is a list of transition tuples (prob, next_state, reward, done).\n",
    "          env.nS is a number of states in the environment. \n",
    "          env.nA is a number of actions in the environment.\n",
    "      theta: We stop evaluation once our value function change is less than theta for all states.\n",
    "      discount_factor: Gamma discount factor.\n",
    "      max_itr: Maximum number of iterations\n",
    "\n",
    "    Returns:\n",
    "      Vector of length env.nS representing the value function.\n",
    "    \"\"\"\n",
    "    n_states = env.nS\n",
    "    n_actions = env.nA\n",
    "    Vn = np.zeros((n_states,))\n",
    "    Vnp1 = np.inf * np.ones((n_states,))\n",
    "    itr = 0\n",
    "\n",
    "    converged = False\n",
    "\n",
    "    while not converged and itr < max_itr:\n",
    "        for state in range(n_states):\n",
    "            policy_value = 0\n",
    "            for action in range(n_actions):\n",
    "                transitions = env.P[state][action]\n",
    "                for prob, next_state, reward, _ in  transitions:\n",
    "                    policy_value += policy[state][action] * prob * (reward + discount_factor * Vn[next_state])\n",
    "            Vnp1[state] = policy_value\n",
    "        converged = np.absolute(Vn - Vnp1).max() < theta\n",
    "        Vn = Vnp1\n",
    "        itr += 1\n",
    "\n",
    "    return Vnp1"
   ]
  },
  {
   "cell_type": "code",
   "execution_count": 0,
   "metadata": {
    "colab": {},
    "colab_type": "code",
    "id": "0PkZ2p_1BKkN"
   },
   "outputs": [],
   "source": [
    "from scipy.special import softmax\n",
    "\n",
    "def policy_improvement(env, start_policy, policy_eval_fn=evaluate_policy, theta=.01, discount_factor=0.99,\n",
    "                       hard_thresholding=False, max_itr=1000):\n",
    "    \"\"\"\n",
    "     Policy Improvement Algorithm. Iteratively evaluates and improves a policy\n",
    "    until an optimal policy is found.\n",
    "    \n",
    "    Args:\n",
    "        env: The OpenAI envrionment.\n",
    "        start_policy: matrix of shape [S, A] representing a valid policy\n",
    "        policy_eval_fn: Policy Evaluation function that takes 3 arguments:\n",
    "            policy, env, discount_factor.\n",
    "        discount_factor: gamma discount factor.\n",
    "        hard_thresholding: boolean, set to True to enforce deterministic policies.\n",
    "        max_itr: Maximum number of iterations\n",
    "        \n",
    "    Returns:\n",
    "        A tuple (policy, V). \n",
    "        policy is the optimal policy, a matrix of shape [S, A] where each state s\n",
    "        contains a valid probability distribution over actions.\n",
    "        V is the value function for the optimal policy.\n",
    "    \"\"\"\n",
    "    n_states = env.nS\n",
    "    n_actions = env.nA\n",
    "    env.reset()\n",
    "    \n",
    "    pn = start_policy\n",
    "    Vn = policy_eval_fn(pn, env, theta, discount_factor)\n",
    "    \n",
    "    itr = 0\n",
    "    converged = False\n",
    "    \n",
    "    while not converged and itr < max_itr:\n",
    "        rewards = []\n",
    "        for state in range(n_states):\n",
    "            rewards.append([])\n",
    "            for action in range(n_actions):\n",
    "                rewards[state].append(0)\n",
    "                transitions = env.P[state][action]\n",
    "                for prob, next_state, reward, _ in  transitions:\n",
    "                    rewards[state][action] += prob* (reward + discount_factor * Vn[next_state])\n",
    "        \n",
    "        if not hard_thresholding:\n",
    "            pnp1 = softmax(np.array(rewards), axis=1)\n",
    "        else:\n",
    "            pnp1 = np.zeros(pn.shape)\n",
    "            best_action = np.argmax(np.array(rewards), axis=1)\n",
    "            for state in range(n_states):\n",
    "                pnp1[state, best_action[state]] = 1.0\n",
    "            \n",
    "        \n",
    "        Vnp1 = policy_eval_fn(pnp1, env, theta, discount_factor)\n",
    "        converged = np.absolute(Vn - Vnp1).max() < theta\n",
    "        Vn = Vnp1\n",
    "        pn = pnp1\n",
    "        itr += 1\n",
    "    \n",
    "    return (pn, Vn)"
   ]
  },
  {
   "cell_type": "code",
   "execution_count": 23,
   "metadata": {
    "colab": {
     "base_uri": "https://localhost:8080/",
     "height": 238
    },
    "colab_type": "code",
    "id": "8rx-ubodBO_Z",
    "outputId": "3b54c7b8-fc54-4a4d-b90a-3e0c003369f6"
   },
   "outputs": [
    {
     "name": "stdout",
     "output_type": "stream",
     "text": [
      "Start policy:\n",
      "[[1. 0. 0.]\n",
      " [1. 0. 0.]]\n",
      "Value function =  [0.995 0.995]\n",
      "\n",
      "Improved policy (softmax):\n",
      "[[0.38365173 0.38365173 0.23269654]\n",
      " [0.39191142 0.39191142 0.21617717]]\n",
      "Value function =  [0.76346695 0.85942232]\n",
      "Improved policy (hard thresholding):\n",
      "[[1. 0. 0.]\n",
      " [1. 0. 0.]]\n",
      "Value function =  [0.995 0.995]\n"
     ]
    }
   ],
   "source": [
    "max_iter = 100\n",
    "theta = 1e-4\n",
    "discount_factor = 0.99\n",
    "\n",
    "policy = np.array([[1.,  0., 0.],\n",
    "                   [1.,  0., 0.]])\n",
    "env = generar_ambiente()\n",
    "\n",
    "value_func = evaluate_policy(policy, env, theta=theta, discount_factor=discount_factor, max_itr=max_iter)\n",
    "print(\"Start policy:\")\n",
    "print(\"{}\".format(policy))\n",
    "print(\"Value function = \", value_func)\n",
    "\n",
    "print()\n",
    "\n",
    "new_policy, new_value_func = policy_improvement(env, policy, theta=theta, discount_factor=discount_factor, max_itr=max_iter)\n",
    "print(\"Improved policy (softmax):\")\n",
    "print(\"{}\".format(new_policy))\n",
    "print(\"Value function = \", new_value_func)\n",
    "\n",
    "new_policy, new_value_func = policy_improvement(env, policy, theta=theta, discount_factor=discount_factor, max_itr=max_iter,\n",
    "                                               hard_thresholding = True)\n",
    "print(\"Improved policy (hard thresholding):\")\n",
    "print(\"{}\".format(new_policy))\n",
    "print(\"Value function = \", new_value_func)"
   ]
  },
  {
   "cell_type": "markdown",
   "metadata": {
    "colab_type": "text",
    "id": "brOjUJvE6aYV"
   },
   "source": [
    "# Using the 3 algorithms do the following experiments\n"
   ]
  },
  {
   "cell_type": "code",
   "execution_count": 0,
   "metadata": {
    "colab": {},
    "colab_type": "code",
    "id": "jVKvrm0t6aYV"
   },
   "outputs": [],
   "source": [
    "exp1 = generar_ambiente(alpha=0.9, beta=0.9, r_search=3, r_wait=2)\n",
    "exp2 = generar_ambiente(alpha=0.8, beta=0.5, r_search=3, r_wait=2)\n",
    "exp3 = generar_ambiente(alpha=0.5, beta=0.5, r_search=3, r_wait=2)\n",
    "exp4 = generar_ambiente(alpha=0.9, beta=0.6, r_search=1, r_wait=0.9)\n",
    "exp5 = generar_ambiente(alpha=0.9, beta=0.6, r_search=1, r_wait=0.5)\n"
   ]
  },
  {
   "cell_type": "markdown",
   "metadata": {
    "colab_type": "text",
    "id": "IAT_YZq56aYY"
   },
   "source": [
    "# Compare the different strategies with the random one\n"
   ]
  },
  {
   "cell_type": "code",
   "execution_count": 25,
   "metadata": {
    "colab": {
     "base_uri": "https://localhost:8080/",
     "height": 1000
    },
    "colab_type": "code",
    "id": "bnUO87_eBW_m",
    "outputId": "113ca858-c94c-46c4-8527-edfb88923b11"
   },
   "outputs": [
    {
     "name": "stdout",
     "output_type": "stream",
     "text": [
      "--------------------\n",
      "[Experience # 1]\n",
      "- Optimal value func:\n",
      "    start = HIGH: \t1.9405\n",
      "    start = LOW: \t1.9210949999999998\n",
      "\n",
      "- Value func for random policy:\n",
      "    start = HIGH: \t0.9774\n",
      "    start = LOW: \t0.40062546666666665\n",
      "\n",
      "- Improved policy (softmax):\n",
      "[[0.31492907 0.4940568  0.19101413]\n",
      " [0.41613765 0.16898396 0.41487839]]\n",
      "\n",
      "- Value func for this policy:\n",
      "    start = HIGH: \t1.269878303121338\n",
      "    start = LOW: \t0.7678893223865249\n",
      "\n",
      "- Improved policy (hard thresholding):\n",
      "[[0. 1. 0.]\n",
      " [1. 0. 0.]]\n",
      "\n",
      "- Value func for this policy:\n",
      "    start = HIGH: \t1.9405\n",
      "    start = LOW: \t0.995\n",
      "\n",
      "--------------------\n",
      "[Experience # 2]\n",
      "- Optimal value func:\n",
      "    start = HIGH: \t1.9405\n",
      "    start = LOW: \t1.9210949999999998\n",
      "\n",
      "- Value func for random policy:\n",
      "    start = HIGH: \t0.9774\n",
      "    start = LOW: \t0.40062546666666665\n",
      "\n",
      "- Improved policy (softmax):\n",
      "[[0.31492907 0.4940568  0.19101413]\n",
      " [0.41613765 0.16898396 0.41487839]]\n",
      "\n",
      "- Value func for this policy:\n",
      "    start = HIGH: \t1.269878303121338\n",
      "    start = LOW: \t0.7678893223865249\n",
      "\n",
      "- Improved policy (hard thresholding):\n",
      "[[0. 1. 0.]\n",
      " [1. 0. 0.]]\n",
      "\n",
      "- Value func for this policy:\n",
      "    start = HIGH: \t1.9405\n",
      "    start = LOW: \t0.995\n",
      "\n",
      "--------------------\n",
      "[Experience # 3]\n",
      "- Optimal value func:\n",
      "    start = HIGH: \t1.9405\n",
      "    start = LOW: \t1.9210949999999998\n",
      "\n",
      "- Value func for random policy:\n",
      "    start = HIGH: \t0.9774\n",
      "    start = LOW: \t0.40062546666666665\n",
      "\n",
      "- Improved policy (softmax):\n",
      "[[0.31492907 0.4940568  0.19101413]\n",
      " [0.41613765 0.16898396 0.41487839]]\n",
      "\n",
      "- Value func for this policy:\n",
      "    start = HIGH: \t1.269878303121338\n",
      "    start = LOW: \t0.7678893223865249\n",
      "\n",
      "- Improved policy (hard thresholding):\n",
      "[[0. 1. 0.]\n",
      " [1. 0. 0.]]\n",
      "\n",
      "- Value func for this policy:\n",
      "    start = HIGH: \t1.9405\n",
      "    start = LOW: \t0.995\n",
      "\n",
      "--------------------\n",
      "[Experience # 4]\n",
      "- Optimal value func:\n",
      "    start = HIGH: \t1.9405\n",
      "    start = LOW: \t1.9210949999999998\n",
      "\n",
      "- Value func for random policy:\n",
      "    start = HIGH: \t0.9774\n",
      "    start = LOW: \t0.40062546666666665\n",
      "\n",
      "- Improved policy (softmax):\n",
      "[[0.31492907 0.4940568  0.19101413]\n",
      " [0.41613765 0.16898396 0.41487839]]\n",
      "\n",
      "- Value func for this policy:\n",
      "    start = HIGH: \t1.269878303121338\n",
      "    start = LOW: \t0.7678893223865249\n",
      "\n",
      "- Improved policy (hard thresholding):\n",
      "[[0. 1. 0.]\n",
      " [1. 0. 0.]]\n",
      "\n",
      "- Value func for this policy:\n",
      "    start = HIGH: \t1.9405\n",
      "    start = LOW: \t0.995\n",
      "\n",
      "--------------------\n",
      "[Experience # 5]\n",
      "- Optimal value func:\n",
      "    start = HIGH: \t1.9405\n",
      "    start = LOW: \t1.9210949999999998\n",
      "\n",
      "- Value func for random policy:\n",
      "    start = HIGH: \t0.9774\n",
      "    start = LOW: \t0.40062546666666665\n",
      "\n",
      "- Improved policy (softmax):\n",
      "[[0.31492907 0.4940568  0.19101413]\n",
      " [0.41613765 0.16898396 0.41487839]]\n",
      "\n",
      "- Value func for this policy:\n",
      "    start = HIGH: \t1.269878303121338\n",
      "    start = LOW: \t0.7678893223865249\n",
      "\n",
      "- Improved policy (hard thresholding):\n",
      "[[0. 1. 0.]\n",
      " [1. 0. 0.]]\n",
      "\n",
      "- Value func for this policy:\n",
      "    start = HIGH: \t1.9405\n",
      "    start = LOW: \t0.995\n",
      "\n"
     ]
    }
   ],
   "source": [
    "max_iter = 100\n",
    "theta = 1e-6\n",
    "discount_factor = 0.99\n",
    "\n",
    "random_policy = np.array([[1/3, 1/3, 1/3],\n",
    "                          [1/3, 1/3, 1/3]])\n",
    "\n",
    "for i, exp in enumerate([exp1, exp2, exp3, exp4, exp5]):\n",
    "    print(\"-\"*20)\n",
    "    print(\"[Experience # {}]\".format(i+1))\n",
    "    \n",
    "    exp.reset()\n",
    "    \n",
    "    optimal_value_func = evaluate_value_func(exp, theta=theta, discount_factor=discount_factor, max_itr=max_iter)\n",
    "    random_value_func = evaluate_policy(random_policy, exp, theta=theta, discount_factor=discount_factor, max_itr=max_iter)\n",
    "    \n",
    "    print(\"- Optimal value func:\")\n",
    "    for n_s, name in enumerate(states):\n",
    "        print(\"    start = {}: \\t{}\".format(name.upper(), optimal_value_func[n_s]))\n",
    "    print()\n",
    "    \n",
    "    print(\"- Value func for random policy:\")\n",
    "    for n_s, name in enumerate(states):\n",
    "        print(\"    start = {}: \\t{}\".format(name.upper(), random_value_func[n_s]))\n",
    "    print()\n",
    "    \n",
    "    improved_policy, improved_value_func = policy_improvement(exp, random_policy, \n",
    "                                                              theta=theta, discount_factor=discount_factor, \n",
    "                                                              max_itr=max_iter)\n",
    "    print(\"- Improved policy (softmax):\")\n",
    "    print(improved_policy)\n",
    "    print()\n",
    "    \n",
    "    print(\"- Value func for this policy:\")\n",
    "    for n_s, name in enumerate(states):\n",
    "        print(\"    start = {}: \\t{}\".format(name.upper(), improved_value_func[n_s]))\n",
    "    print()\n",
    "    \n",
    "    improved_policy, improved_value_func = policy_improvement(exp, random_policy, \n",
    "                                                              theta=theta, discount_factor=discount_factor, \n",
    "                                                              max_itr=max_iter,\n",
    "                                                             hard_thresholding=True)\n",
    "    print(\"- Improved policy (hard thresholding):\")\n",
    "    print(improved_policy)\n",
    "    print()\n",
    "    \n",
    "    print(\"- Value func for this policy:\")\n",
    "    for n_s, name in enumerate(states):\n",
    "        print(\"    start = {}: \\t{}\".format(name.upper(), improved_value_func[n_s]))\n",
    "    print()"
   ]
  },
  {
   "cell_type": "code",
   "execution_count": 0,
   "metadata": {
    "colab": {},
    "colab_type": "code",
    "id": "zGOH7xf7CbvZ"
   },
   "outputs": [],
   "source": []
  }
 ],
 "metadata": {
  "colab": {
   "include_colab_link": true,
   "name": "TP1_2020.ipynb",
   "provenance": []
  },
  "kernelspec": {
   "display_name": "Python 3",
   "language": "python",
   "name": "python3"
  },
  "language_info": {
   "codemirror_mode": {
    "name": "ipython",
    "version": 3
   },
   "file_extension": ".py",
   "mimetype": "text/x-python",
   "name": "python",
   "nbconvert_exporter": "python",
   "pygments_lexer": "ipython3",
   "version": "3.6.9"
  }
 },
 "nbformat": 4,
 "nbformat_minor": 1
}
