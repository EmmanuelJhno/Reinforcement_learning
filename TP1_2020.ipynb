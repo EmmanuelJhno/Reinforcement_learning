{
  "nbformat": 4,
  "nbformat_minor": 0,
  "metadata": {
    "colab": {
      "name": "TP1_2020.ipynb",
      "provenance": [],
      "include_colab_link": true
    },
    "language_info": {
      "codemirror_mode": {
        "name": "ipython",
        "version": 2
      },
      "file_extension": ".py",
      "mimetype": "text/x-python",
      "name": "python",
      "nbconvert_exporter": "python",
      "pygments_lexer": "ipython2",
      "version": "2.7.15rc1"
    },
    "kernelspec": {
      "display_name": "Python 2",
      "language": "python",
      "name": "python2"
    }
  },
  "cells": [
    {
      "cell_type": "markdown",
      "metadata": {
        "id": "view-in-github",
        "colab_type": "text"
      },
      "source": [
        "<a href=\"https://colab.research.google.com/github/EmmanuelJhno/Reinforcement_learning/blob/master/TP1_2020.ipynb\" target=\"_parent\"><img src=\"https://colab.research.google.com/assets/colab-badge.svg\" alt=\"Open In Colab\"/></a>"
      ]
    },
    {
      "cell_type": "markdown",
      "metadata": {
        "colab_type": "text",
        "id": "8NxgP4gIN5eF"
      },
      "source": [
        "**Recycling robot example** (from Sutton, page 42)\n",
        "References:\n",
        "  - Gym documentation: https://gym.openai.com/\n",
        "\n",
        "  "
      ]
    },
    {
      "cell_type": "code",
      "metadata": {
        "colab_type": "code",
        "id": "fQ-0sEtFFcTM",
        "colab": {}
      },
      "source": [
        "import numpy as np\n",
        "from gym.envs.toy_text import discrete\n",
        "import random\n",
        "import matplotlib.pyplot as plt"
      ],
      "execution_count": 0,
      "outputs": []
    },
    {
      "cell_type": "code",
      "metadata": {
        "id": "i3dzvy9s6aX3",
        "colab_type": "code",
        "colab": {}
      },
      "source": [
        "\n",
        "# TO DO: Explain shortly the gym environment"
      ],
      "execution_count": 0,
      "outputs": []
    },
    {
      "cell_type": "markdown",
      "metadata": {
        "id": "GPaZiYtu6aX6",
        "colab_type": "text"
      },
      "source": [
        "# Consider the robot model described in Barto and Sutton Example 3.2"
      ]
    },
    {
      "cell_type": "code",
      "metadata": {
        "colab_type": "code",
        "id": "U96qJdswGBFr",
        "colab": {}
      },
      "source": [
        "states = [\"high\", \"low\"]\n",
        "actions = [\"wait\", \"search\", \"recharge\"]\n",
        "\n",
        "P = {}\n",
        "\n",
        "P[0] = {}\n",
        "P[1] = {}\n",
        "\n",
        "alpha = 1\n",
        "beta = 1\n",
        "r_wait = 0.5\n",
        "r_search = 2.0\n",
        "\n",
        "# We define a discrete environment with the corresponding transitions\n",
        "def generar_ambiente(alpha=alpha, beta=beta, r_wait=r_wait, r_search=r_wait):\n",
        "    P[0][0] = [(1.0, 0, r_wait, False)]\n",
        "    P[0][1] = [(alpha, 0, r_search, False),\n",
        "               (1-alpha, 1, r_search, False)]\n",
        "    P[0][2] = [(1,0,0,False)]\n",
        "\n",
        "    P[1][0] = [(1.0, 1, r_wait, False)]\n",
        "    P[1][1] = [(beta, 1, r_search, False), \n",
        "               (1-beta, 0, -3.0, False)]\n",
        "    P[1][2] = [(1.0, 0, 0.0, False)]\n",
        "    env = discrete.DiscreteEnv(2, 3, P, [0.0, 1.0])\n",
        "    return(env)\n",
        "env = generar_ambiente()"
      ],
      "execution_count": 0,
      "outputs": []
    },
    {
      "cell_type": "markdown",
      "metadata": {
        "id": "vvcF7--Z6aX8",
        "colab_type": "text"
      },
      "source": [
        "# Implement the random strategy for 20 steps"
      ]
    },
    {
      "cell_type": "markdown",
      "metadata": {
        "id": "XoNiKgvOIC3n",
        "colab_type": "text"
      },
      "source": [
        "Define a random action and see what reward it produces\n"
      ]
    },
    {
      "cell_type": "markdown",
      "metadata": {
        "id": "u9kpyAEk6aYB",
        "colab_type": "text"
      },
      "source": [
        "# Plot the global reward "
      ]
    },
    {
      "cell_type": "markdown",
      "metadata": {
        "id": "qC0PJOkV6aYH",
        "colab_type": "text"
      },
      "source": [
        "# Compute theoretically the optimal value function for each state\n"
      ]
    },
    {
      "cell_type": "markdown",
      "metadata": {
        "id": "ZRz0uMX1LbXz",
        "colab_type": "text"
      },
      "source": [
        "# Implement Value Iteration"
      ]
    },
    {
      "cell_type": "markdown",
      "metadata": {
        "id": "bVuBLOrWL1ru",
        "colab_type": "text"
      },
      "source": [
        "  Evaluate the optimal value function given a full description of the environment dynamics\n",
        "  \n",
        "  \n",
        "\n",
        "```\n",
        " Args:\n",
        "\n",
        "        env: OpenAI env. env.P represents the transition probabilities of the environment.\n",
        "            env.P[s][a] is a list of transition tuples (prob, next_state, reward, done).\n",
        "            env.nS is a number of states in the environment. \n",
        "            env.nA is a number of actions in the environment.\n",
        "        theta: We stop evaluation once our value function change is less than theta for all states.\n",
        "        discount_factor: Gamma discount factor.\n",
        "  \n",
        "  Returns:\n",
        "        Vector of length env.nS representing the value function.\n",
        "```\n",
        "\n",
        "\n",
        "  \n",
        "   "
      ]
    },
    {
      "cell_type": "markdown",
      "metadata": {
        "id": "KGWxWGNA6aYJ",
        "colab_type": "text"
      },
      "source": [
        "# Implement policy iteration"
      ]
    },
    {
      "cell_type": "markdown",
      "metadata": {
        "id": "f9o3S2kaKQKX",
        "colab_type": "text"
      },
      "source": [
        "Then an policy optimisation function,\n",
        "\n",
        "```\n",
        "Evaluate a policy given an environment and a full description of the environment's dynamics.\n",
        "    \n",
        "    Args:\n",
        "        policy: [S, A] shaped matrix representing the policy.\n",
        "        env: OpenAI env. env.P represents the transition probabilities of the environment.\n",
        "            env.P[s][a] is a list of transition tuples (prob, next_state, reward, done).\n",
        "            env.nS is a number of states in the environment. \n",
        "            env.nA is a number of actions in the environment.\n",
        "        theta: We stop evaluation once our value function change is less than theta for all states.\n",
        "        discount_factor: Gamma discount factor.\n",
        "    \n",
        "    Returns:\n",
        "        Vector of length env.nS representing the value function.\n",
        "        \n",
        "```\n",
        "\n",
        "Despues una funcion de optimisacion de la politica:\n",
        "\n",
        "\n",
        "```\n",
        " Policy Improvement Algorithm. Iteratively evaluates and improves a policy\n",
        "    until an optimal policy is found.\n",
        "    \n",
        "    Args:\n",
        "        env: The OpenAI envrionment.\n",
        "        policy_eval_fn: Policy Evaluation function that takes 3 arguments:\n",
        "            policy, env, discount_factor.\n",
        "        discount_factor: gamma discount factor.\n",
        "        \n",
        "    Returns:\n",
        "        A tuple (policy, V). \n",
        "        policy is the optimal policy, a matrix of shape [S, A] where each state s\n",
        "        contains a valid probability distribution over actions.\n",
        "        V is the value function for the optimal policy.\n",
        "        \n",
        "```\n",
        "\n",
        "\n",
        "\n"
      ]
    },
    {
      "cell_type": "markdown",
      "metadata": {
        "id": "brOjUJvE6aYV",
        "colab_type": "text"
      },
      "source": [
        "# Using the 3 algorithms do the following experiments\n"
      ]
    },
    {
      "cell_type": "code",
      "metadata": {
        "id": "jVKvrm0t6aYV",
        "colab_type": "code",
        "colab": {}
      },
      "source": [
        "exp1 = generar_ambiente(alpha=0.9, beta=0.9, r_search=3, r_wait=2)\n",
        "exp2 = generar_ambiente(alpha=0.8, beta=0.5, r_search=3, r_wait=2)\n",
        "exp3 = generar_ambiente(alpha=0.5, beta=0.5, r_search=3, r_wait=2)\n",
        "exp4 = generar_ambiente(alpha=0.9, beta=0.6, r_search=1, r_wait=0.9)\n",
        "exp5 = generar_ambiente(alpha=0.9, beta=0.6, r_search=1, r_wait=0.5)\n"
      ],
      "execution_count": 0,
      "outputs": []
    },
    {
      "cell_type": "markdown",
      "metadata": {
        "id": "IAT_YZq56aYY",
        "colab_type": "text"
      },
      "source": [
        "# Compare the different strategies with the random one\n"
      ]
    }
  ]
}