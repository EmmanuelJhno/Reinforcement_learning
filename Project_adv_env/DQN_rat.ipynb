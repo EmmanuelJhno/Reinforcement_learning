{
 "cells": [
  {
   "cell_type": "code",
   "execution_count": 1,
   "metadata": {},
   "outputs": [
    {
     "name": "stderr",
     "output_type": "stream",
     "text": [
      "Using TensorFlow backend.\n"
     ]
    }
   ],
   "source": [
    "import keras\n",
    "from keras import backend as K\n",
    "import numpy as np\n",
    "import io\n",
    "import base64\n",
    "from IPython.display import HTML\n",
    "#import skvideo\n",
    "#skvideo.setFFmpegPath(\"/usr/local/bin\")\n",
    "import skvideo.io\n",
    "import cv2\n",
    "import json\n",
    "\n",
    "from keras.models import Sequential, model_from_json\n",
    "from keras.layers.core import Dense, Dropout, Flatten\n",
    "from keras.optimizers import sgd, Adam\n",
    "from keras.layers import Conv2D, MaxPooling2D, Activation, AveragePooling2D,Reshape,BatchNormalization"
   ]
  },
  {
   "cell_type": "markdown",
   "metadata": {},
   "source": [
    "# MiniProject on Deep Reinforcement Learning"
   ]
  },
  {
   "cell_type": "markdown",
   "metadata": {},
   "source": [
    "__Notations__: $E_p$ is the expectation under probability $p$."
   ]
  },
  {
   "cell_type": "markdown",
   "metadata": {},
   "source": [
    "# Context"
   ]
  },
  {
   "cell_type": "markdown",
   "metadata": {},
   "source": [
    "## The environment, the agent and the game"
   ]
  },
  {
   "cell_type": "markdown",
   "metadata": {},
   "source": [
    "### The environment"
   ]
  },
  {
   "cell_type": "markdown",
   "metadata": {},
   "source": [
    "```Environment``` is an abstract class that represents the states, rewards, and actions to obtain the new state."
   ]
  },
  {
   "cell_type": "markdown",
   "metadata": {},
   "source": [
    "The method ```act``` allows to act on the environment at a given state $s_t$ (stored internally), via action $a_t$. The method will return the new state $s_{t+1}$, the reward $r(s_{t},a_{t})$ and determines if $t\\leq T$ (*game_over*).\n",
    "\n",
    "The method ```reset``` simply reinitializes the environment to a random state $s_0$.\n",
    "\n",
    "The method ```draw``` displays the current state $s_t$ (this is useful to check the behavior of the Agent).\n",
    "\n",
    "We modelize $s_t$ as a tensor, while $a_t$ is an integer."
   ]
  },
  {
   "cell_type": "markdown",
   "metadata": {},
   "source": [
    "### The Agent"
   ]
  },
  {
   "cell_type": "markdown",
   "metadata": {},
   "source": [
    "The goal of the ```Agent``` is to interact with the ```Environment``` by proposing actions $a_t$ obtained from a given state $s_t$ to attempt to maximize its __reward__ $r(s_t,a_t)$. We propose the following abstract class:"
   ]
  },
  {
   "cell_type": "code",
   "execution_count": 2,
   "metadata": {},
   "outputs": [],
   "source": [
    "class Agent(object):\n",
    "    def __init__(self, epsilon=0.1, n_action=4):\n",
    "        self.epsilon = epsilon\n",
    "        self.n_action = n_action\n",
    "    \n",
    "    def set_epsilon(self,e):\n",
    "        self.epsilon = e\n",
    "\n",
    "    def act(self,s,train=True):\n",
    "        \"\"\" This function should return the next action to do:\n",
    "        an integer between 0 and 4 (not included) with a random exploration of epsilon\"\"\"\n",
    "        if train:\n",
    "            if np.random.rand() <= self.epsilon:\n",
    "                a = np.random.randint(0, self.n_action, size=1)[0]\n",
    "            else:\n",
    "                a = self.learned_act(s)\n",
    "        else: # in some cases, this can improve the performance.. remove it if poor performances\n",
    "            a = self.learned_act(s)\n",
    "\n",
    "        return a\n",
    "\n",
    "    def learned_act(self,s):\n",
    "        \"\"\" Act via the policy of the agent, from a given state s\n",
    "        it proposes an action a\"\"\"\n",
    "        pass\n",
    "\n",
    "    def reinforce(self, s, n_s, a, r, game_over_):\n",
    "        \"\"\" This function is the core of the learning algorithm. \n",
    "        It takes as an input the current state s_, the next state n_s_\n",
    "        the action a_ used to move from s_ to n_s_ and the reward r_.\n",
    "        \n",
    "        Its goal is to learn a policy.\n",
    "        \"\"\"\n",
    "        pass\n",
    "\n",
    "    def save(self):\n",
    "        \"\"\" This function returns basic stats if applicable: the\n",
    "        loss and/or the model\"\"\"\n",
    "        pass\n",
    "\n",
    "    def load(self):\n",
    "        \"\"\" This function allows to restore a model\"\"\"\n",
    "        pass"
   ]
  },
  {
   "cell_type": "markdown",
   "metadata": {},
   "source": [
    "---\n",
    "# The game, *eat cheese*"
   ]
  },
  {
   "cell_type": "markdown",
   "metadata": {},
   "source": [
    "A rat runs on an island and tries to eat as much as possible. The island is subdivided into $N\\times N$ cells, in which there are cheese (+0.5) and poisonous cells (-1). The rat has a visibility of 2 cells (thus it can see $5^2$ cells). The rat is given a time $T$ to accumulate as much food as possible. It can perform 4 actions: going up, down, left, right. \n",
    "\n",
    "The goal is to code an agent to solve this task that will learn by trial and error. We propose the following environment:"
   ]
  },
  {
   "cell_type": "code",
   "execution_count": 38,
   "metadata": {},
   "outputs": [],
   "source": [
    "class Environment(object):\n",
    "    def __init__(self, grid_size=13, max_time=200, temperature=0.3, immob_penalty=0):\n",
    "        grid_size = grid_size+4\n",
    "        self.grid_size = grid_size\n",
    "        self.max_time = max_time\n",
    "        self.temperature = temperature \n",
    "        self.immob_penalty = immob_penalty\n",
    "        # this will impact the number of positive and negative rewards in the environment\n",
    "\n",
    "        # board on which one plays\n",
    "        self.board = np.zeros((grid_size,grid_size)) # possible reward in each location on the board\n",
    "        self.position = np.zeros((grid_size,grid_size)) # the very position of the rat at time t\n",
    "        self.malus_position = np.zeros((self.grid_size, self.grid_size)) # recording malus rewards on visited locations\n",
    "        \n",
    "        # coordinate of the rat\n",
    "        self.x = 0\n",
    "        self.y = 1\n",
    "\n",
    "        # self time\n",
    "        self.t = 0\n",
    "\n",
    "        self.scale=16\n",
    "\n",
    "        self.to_draw = np.zeros((max_time+2, grid_size*self.scale, grid_size*self.scale, 3))\n",
    "        \n",
    "\n",
    "    def draw(self,e):\n",
    "        skvideo.io.vwrite('runs/' + str(e) + '.mp4', self.to_draw)\n",
    "\n",
    "    def get_frame(self,t):\n",
    "        b = np.zeros((self.grid_size,self.grid_size,3))+128\n",
    "        b[self.board>0,0] = 256\n",
    "        b[self.board < 0, 2] = 256\n",
    "        b[self.x,self.y,:]=256\n",
    "        b[-2:,:,:]=0\n",
    "        b[:,-2:,:]=0\n",
    "        b[:2,:,:]=0\n",
    "        b[:,:2,:]=0\n",
    "        \n",
    "        b =  cv2.resize(b, None, fx=self.scale, fy=self.scale, interpolation=cv2.INTER_NEAREST)\n",
    "\n",
    "        self.to_draw[t,:,:,:]=b\n",
    "        \n",
    "        \n",
    "    def act(self, action, train=True):\n",
    "        \"\"\"This function returns the new state, reward and decides if the\n",
    "        game ends.\"\"\"\n",
    "\n",
    "        self.get_frame(int(self.t))\n",
    "\n",
    "        self.position = np.zeros((self.grid_size, self.grid_size))\n",
    "\n",
    "        self.position[0:2, :] = -1\n",
    "        self.position[:, 0:2] = -1\n",
    "        self.position[-2:, :] = -1\n",
    "        self.position[:, -2:] = -1\n",
    "\n",
    "        self.position[self.x, self.y] = 1\n",
    "        if action == 0:\n",
    "            if self.x == self.grid_size-3:\n",
    "                self.x = self.x - 1\n",
    "            else:\n",
    "                self.x = self.x + 1\n",
    "        elif action == 1:\n",
    "            if self.x == 2:\n",
    "                self.x = self.x + 1\n",
    "            else:\n",
    "                self.x = self.x - 1\n",
    "        elif action == 2:\n",
    "            if self.y == self.grid_size - 3:\n",
    "                self.y = self.y - 1\n",
    "            else:\n",
    "                self.y = self.y + 1\n",
    "        elif action == 3:\n",
    "            if self.y == 2:\n",
    "                self.y = self.y + 1\n",
    "            else:\n",
    "                self.y = self.y - 1\n",
    "        else:\n",
    "            RuntimeError('Error: action not recognized')\n",
    "\n",
    "        self.t = self.t + 1\n",
    "        reward = 0\n",
    "        if train:\n",
    "            reward += self.malus_position[self.x, self.y]\n",
    "        self.malus_position[self.x, self.y] = - self.immob_penalty\n",
    "        \n",
    "        ### Then before giving the reward, we give the environment the possibility to change and act differently\n",
    "        self.modify_board() # Everything needed can be found in self.x, self.y, self.board, self.t, etc...\n",
    "        \n",
    "        reward += self.board[self.x, self.y]\n",
    "        self.board[self.x, self.y] = 0\n",
    "        game_over = self.t > self.max_time\n",
    "        state = np.concatenate((self.malus_position.reshape(self.grid_size, self.grid_size,1),\n",
    "                                self.board.reshape(self.grid_size, self.grid_size,1),\n",
    "                                self.position.reshape(self.grid_size, self.grid_size,1)),axis=2)\n",
    "        state = state[self.x-2:self.x+3,self.y-2:self.y+3,:]\n",
    "\n",
    "        return state, reward, game_over\n",
    "\n",
    "    def reset(self):\n",
    "        \"\"\"This function resets the game and returns the initial state\"\"\"\n",
    "\n",
    "        self.x = np.random.randint(3, self.grid_size-3, size=1)[0]\n",
    "        self.y = np.random.randint(3, self.grid_size-3, size=1)[0]\n",
    "\n",
    "        self.malus_position = np.zeros((self.grid_size, self.grid_size))\n",
    "\n",
    "        bonus = 0.5*np.random.binomial(1, self.temperature, size=self.grid_size**2)\n",
    "        bonus = bonus.reshape(self.grid_size,self.grid_size)\n",
    "\n",
    "        malus = -1.0*np.random.binomial(1, self.temperature, size=self.grid_size**2)\n",
    "        malus = malus.reshape(self.grid_size, self.grid_size)\n",
    "\n",
    "        self.to_draw = np.zeros((self.max_time+2, self.grid_size*self.scale, self.grid_size*self.scale, 3))\n",
    "\n",
    "\n",
    "        malus[bonus>0] = 0\n",
    "\n",
    "        self.board = bonus + malus\n",
    "\n",
    "        self.position = np.zeros((self.grid_size, self.grid_size))\n",
    "        self.position[:2, :] = -1\n",
    "        self.position[:, :2] = -1\n",
    "        self.position[-2:,:] = -1\n",
    "        self.position[:,-2:] = -1\n",
    "        self.board[self.x,self.y] = 0 # since we assume that we don't consider the first state in the reward,\n",
    "        self.malus_position[self.x, self.y] = - self.immob_penalty # we can consider the original position as visited (or not ?)\n",
    "        self.t = 0\n",
    "\n",
    "        state = np.concatenate((self.malus_position.reshape(self.grid_size, self.grid_size,1),\n",
    "                                self.board.reshape(self.grid_size, self.grid_size,1),\n",
    "                                self.position.reshape(self.grid_size, self.grid_size,1)),axis=2)\n",
    "\n",
    "        state = state[self.x - 2:self.x + 3, self.y - 2:self.y + 3, :]\n",
    "        return state\n",
    "    \n",
    "    def modify_board():\n",
    "        \"\"\"This function modifies the board itself. It should use self.t and self.board\"\"\"\n",
    "        pass"
   ]
  },
  {
   "cell_type": "markdown",
   "metadata": {},
   "source": [
    "Let's define now the hyper parameters :"
   ]
  },
  {
   "cell_type": "code",
   "execution_count": 9,
   "metadata": {},
   "outputs": [],
   "source": [
    "# parameters\n",
    "size = 13\n",
    "T=200\n",
    "temperature=0.3\n",
    "epochs_train=10 # set small when debugging\n",
    "epochs_test=10 # set small when debugging\n",
    "\n",
    "# display videos\n",
    "def display_videos(name):\n",
    "    video = io.open('runs/'+name, 'r+b').read()\n",
    "    encoded = base64.b64encode(video)\n",
    "    return '''<video alt=\"test\" controls>\n",
    "                <source src=\"data:video/mp4;base64,{0}\" type=\"video/mp4\" />\n",
    "             </video>'''.format(encoded.decode('ascii'))"
   ]
  },
  {
   "cell_type": "markdown",
   "metadata": {},
   "source": [
    "Let's now define the training loop and the test loop :"
   ]
  },
  {
   "cell_type": "code",
   "execution_count": 42,
   "metadata": {},
   "outputs": [],
   "source": [
    "def train(agent, env,epoch, eps_decay=None, eps_step=None, freq_video=10, prefix=''):\n",
    "    # Number of won games\n",
    "    score = 0\n",
    "    loss = 0\n",
    "    \n",
    "    name = prefix\n",
    "    name = name + '_explore_' if eps_step and eps_decay else name\n",
    "    \n",
    "    eps = agent.epsilon\n",
    "\n",
    "    for e in range(epoch):\n",
    "        if eps_step and eps_decay and e!=0 and e%eps_step==0:\n",
    "            eps = eps*eps_decay\n",
    "            agent.set_epsilon(eps)\n",
    "        # At each epoch, we restart to a fresh game and get the initial state\n",
    "        state = env.reset()\n",
    "        # This assumes that the games will terminate\n",
    "        game_over = False\n",
    "\n",
    "        win = 0\n",
    "        lose = 0\n",
    "\n",
    "        while not game_over:\n",
    "            # The agent performs an action\n",
    "            action = agent.act(state)\n",
    "\n",
    "            # Apply an action to the environment, get the next state, the reward\n",
    "            # and if the games end\n",
    "            prev_state = state\n",
    "            state, reward, game_over = env.act(action, train=True)\n",
    "\n",
    "            # Update the counters\n",
    "            # We modify this interval because we only care about the true reward \n",
    "            # and not the penalty of coming back to visited places. This penalty aims at helping the algorithm\n",
    "            # itself but shouldn't be considered in the win/lose counts\n",
    "            if reward > 0:\n",
    "                win += reward\n",
    "            if reward < -env.immob_penalty:\n",
    "                lose -= reward\n",
    "\n",
    "            # Apply the reinforcement strategy\n",
    "            loss = agent.reinforce(prev_state, state, action, reward, game_over)\n",
    "\n",
    "        # Save as a mp4\n",
    "        if (e+1) % freq_video == 0:\n",
    "            env.draw(name+str(e+1))\n",
    "\n",
    "        # Update stats\n",
    "        score += win-lose\n",
    "\n",
    "        print(\"Epoch {:03d}/{:03d} | Loss {:.4f} | Win/lose count {}/{} ({})\"\n",
    "              .format(e+1, epoch, loss, win, lose, win-lose))\n",
    "        agent.save(name_weights=name+'_model.h5',name_model=name+'_model.json')\n",
    "        \n",
    "        \n",
    "#------------------------------------------------------------------------------------------------\n",
    "\n",
    "def test(agent,env,epochs,prefix=''):\n",
    "    # Number of won games\n",
    "    score = 0\n",
    "        \n",
    "    for e in range(1,epochs+1):\n",
    "        # At each epoch, we restart to a fresh game and get the initial state\n",
    "        state = env.reset()\n",
    "        # This assumes that the games will end\n",
    "        game_over = False\n",
    "\n",
    "        win = 0\n",
    "        lose = 0\n",
    "\n",
    "        while not game_over:\n",
    "            # The agent performs an action\n",
    "            action = agent.act(state)\n",
    "\n",
    "            # Apply an action to the environment, get the next state, the reward\n",
    "            # and if the games end\n",
    "            prev_state = state\n",
    "            state, reward, game_over = env.act(action)\n",
    "\n",
    "            # Update the counters\n",
    "            if reward > 0:\n",
    "                win = win + reward\n",
    "            if reward < -0.1:\n",
    "                lose = lose - reward\n",
    "\n",
    "        # Save as a mp4\n",
    "        env.draw(prefix+str(e))\n",
    "\n",
    "        # Update stats\n",
    "        score = score + win-lose\n",
    "\n",
    "        print(\"Win/lose count {}/{}. Average score ({})\"\n",
    "              .format(win, lose, score/e))\n",
    "    print('Final score: '+str(score/epochs))"
   ]
  },
  {
   "cell_type": "markdown",
   "metadata": {},
   "source": [
    "## Random Agent"
   ]
  },
  {
   "cell_type": "code",
   "execution_count": 11,
   "metadata": {},
   "outputs": [],
   "source": [
    "class RandomAgent(Agent):\n",
    "    def __init__(self):\n",
    "        super(RandomAgent, self).__init__()\n",
    "\n",
    "    def learned_act(self, s):\n",
    "        return np.random.randint(4)"
   ]
  },
  {
   "cell_type": "markdown",
   "metadata": {},
   "source": [
    "Let's try it out ! *NB : This random agent cannot be trained so we test it directly*"
   ]
  },
  {
   "cell_type": "code",
   "execution_count": 13,
   "metadata": {},
   "outputs": [
    {
     "name": "stdout",
     "output_type": "stream",
     "text": [
      "Win/lose count 10.0/17.0. Average score (-7.0)\n",
      "Win/lose count 7.0/14.0. Average score (-7.0)\n",
      "Win/lose count 7.5/16.0. Average score (-7.5)\n",
      "Win/lose count 10.5/12.0. Average score (-6.0)\n",
      "Win/lose count 8.0/11.0. Average score (-5.4)\n",
      "Win/lose count 9.5/20.0. Average score (-6.25)\n",
      "Win/lose count 11.5/13.0. Average score (-5.571428571428571)\n",
      "Win/lose count 13.0/12.0. Average score (-4.75)\n",
      "Win/lose count 12.0/15.0. Average score (-4.555555555555555)\n",
      "Win/lose count 11.0/10.0. Average score (-4.0)\n",
      "Final score: -4.0\n"
     ]
    },
    {
     "data": {
      "text/html": [
       "<video alt=\"test\" controls>\n",
       "                <source src=\"data:video/mp4;base64,AAAAIGZ0eXBpc29tAAACAGlzb21pc28yYXZjMW1wNDEAAAAIZnJlZQAAGWFtZGF0AAACnwYF//+b3EXpvebZSLeWLNgg2SPu73gyNjQgLSBjb3JlIDE1MiAtIEguMjY0L01QRUctNCBBVkMgY29kZWMgLSBDb3B5bGVmdCAyMDAzLTIwMTcgLSBodHRwOi8vd3d3LnZpZGVvbGFuLm9yZy94MjY0Lmh0bWwgLSBvcHRpb25zOiBjYWJhYz0xIHJlZj0zIGRlYmxvY2s9MTowOjAgYW5hbHlzZT0weDE6MHgxMTEgbWU9aGV4IHN1Ym1lPTcgcHN5PTEgcHN5X3JkPTEuMDA6MC4wMCBtaXhlZF9yZWY9MSBtZV9yYW5nZT0xNiBjaHJvbWFfbWU9MSB0cmVsbGlzPTEgOHg4ZGN0PTAgY3FtPTAgZGVhZHpvbmU9MjEsMTEgZmFzdF9wc2tpcD0xIGNocm9tYV9xcF9vZmZzZXQ9NCB0aHJlYWRzPTYgbG9va2FoZWFkX3RocmVhZHM9MSBzbGljZWRfdGhyZWFkcz0wIG5yPTAgZGVjaW1hdGU9MSBpbnRlcmxhY2VkPTAgYmx1cmF5X2NvbXBhdD0wIGNvbnN0cmFpbmVkX2ludHJhPTAgYmZyYW1lcz0zIGJfcHlyYW1pZD0yIGJfYWRhcHQ9MSBiX2JpYXM9MCBkaXJlY3Q9MSB3ZWlnaHRiPTEgb3Blbl9nb3A9MCB3ZWlnaHRwPTIga2V5aW50PTI1MCBrZXlpbnRfbWluPTI1IHNjZW5lY3V0PTQwIGludHJhX3JlZnJlc2g9MCByY19sb29rYWhlYWQ9NDAgcmM9Y3JmIG1idHJlZT0xIGNyZj0yMy4wIHFjb21wPTAuNjAgcXBtaW49MCBxcG1heD02OSBxcHN0ZXA9NCBpcF9yYXRpbz0xLjQwIGFxPTE6MS4wMACAAAADP2WIhAA3//72h/gU2VgT/lm//Q1/3I/bj6z9cWMhBN9aryHowBkvtR/m/6xRbOmelAf34AiUAHNuGcKSKGf/AplscL4FCvoytm2BRsFJJ3H92/5N+ln7XYovZAsPVzJn76GtyTeduGqtO7BbkQxBaHk0ojeLd1uAn6hMTheAPWBXjdBRi+LHtWM2YcUOMVEUOIAnoECF5zznd3TIYJsxcIiNcSiVX8/PJ5JSxGHAG8851mL/C0MALL5gca+xdgvvOPXicG/mcTMoJHeiYydebvIUyICDhZMfilxTeHt0D14g24k4opIP/PDGemJuiwmF2eYhtuBnJrNC9uWSeSOZNHEUgIf1b7wHcoHdbPHLzGuFV9GZKEDHqmMsBkh/aIG+C23aVnf6M2Va6N5zDJx4KYvf1TX4X+seM5xfpLCW0YoNm5RWVlGjEBUvi8US5/CwtYqeMskjmo8t5jgdglKm6RkgCg0Eu8CfVb07xxEYgcS1RY0fz7g7pmFtO73D6IbTW9OT3jjQemvBp2ZuoK6jjb2xW4vteoIkZ/tQUiAB9pj4TJVdGvmmJhYtjo953piYP1b8UaIq590ftFJwZZOwMAABLRQXshoy8MWjYl7Cqbdf8ruH/c6bKTMq8G/lVQXt7IObwcAJodhzSjt3xGJCsR8Ch8cCGVBJTyPoy9K+kQzEqak2D38zOx+W9d57Vc14UpnJ/QzZQpjAC2oHimYQoOWhLjMPZrZG/XK7E2HmAWGokWW9nfB79M4nwRPQCfU5SlpooGYux1cYr29OeTgwAgkdqaDlHTiOwLqNMzg6ThYwE26UyGcBahlvi9YKfsfkvrWSfFgejGI4tt0xBQzZ29sZ0LG1riNw0nqpQkPLdULANVNTM+67/XEWlqRUnwpxTRahh3PcHiTTLUnxOlZKskijW2XZefCz1uMjDSkHKsXZQzxzBakNCvSnZLnpYtZ9EhkoBDmlcnDniavpSZf6lQ3chXOpLWuFQ6Vt0By0IU2WqE+VqwT/3fcGFiI7dYzGqrl5OJaP3fcGFiI75bEajzDqSRmof6rLkjfuzLTRvFJbzQNrF9KRmbrHnH+whBKrFKfb2WZkFsrNXpXggAABpQAAABVBmiJsQz/+nhAntyXxBdX97UeL0+YAAAAPAZ5BeQr/ApHRwAfU+OErAAAAFkGaQzwhkymEM//+nhAn08XRPIZMJuAAAAAYQZpkSeEPJlMCG//+p4QKTsxvPgtnt4QdAAAAHUGahknhDyZTBRE8M//+nhAfvOb601dwuFsFRT5hAAAAEAGepWpCvwJeD+NXf8/x9YEAAAAYQZqnSeEPJlMCGf/+nhAEd+IedboGSGVVAAAAGEGayEnhDyZTAhv//qeEAR346Y/w+rbZXwAAABhBmulJ4Q8mUwIb//6nhAEV+OmP8Pq22WcAAAAbQZsKSeEPJlMCHf/+qZYAiP0ugcP87pCmERUxAAAAGEGbLknhDyZTAhv//qeEARRbS5m91Pi1qQAAABBBn0xFETwv/wCoUCClDB7oAAAADgGfa3RCvwCS7jvPOLUPAAAAEAGfbWpCvwDiMweTA9e2toEAAAAaQZtxSahBaJlMCG///qeEARX46fUcaEhwYEEAAAAPQZ+PRREsK/8A4gP+aXjgAAAADQGfsGpCvwDiWBQNKKoAAAAZQZuySahBbJlMCG///qeEALlitIIRP8ttCwAAABlBm9VJ4QpSZTAhv/6nhAC6e6n6jjQkOEfAAAAAEkGf80U0TCv/AOe/A6Em61cDgAAAAA4BnhRqQr8A54QLO/Cq4wAAABtBmhdJqEFomUwU8N/+p4QAtQdpPgbe6n7VriAAAAAQAZ42akK/AJLtEJuM+vTbKQAAABlBmjhJ4QpSZTAh3/6plgBb/fVlVmbZgEzBAAAAHEGaXEnhDomUwIb//qeEALF7qftV5bPhRrdEr1MAAAATQZ56RRE8L/8AaYRx1Ysq3ToQHwAAABABnpl0Qr8AjrtSeV+SmzbQAAAADwGem2pCvwBfiL5m2ZGt0wAAABlBmp5JqEFomUwU8N/+p4QAsIhl3b77PFtTAAAAEAGevWpCvwCO7PHK/WKRc0AAAAAZQZqiSeEKUmUwIZ/+nhACs+6b3TDzjekwpgAAABBBnsBFNEwv/wBplSb+bMulAAAADwGe/3RCvwCO2hAZJcqkgAAAABABnuFqQr8Ajsroqs4/AaJhAAAAGUGa40moQWiZTAhn//6eEAKdwY5/DnN9ZdMAAAAYQZsESeEKUmUwIZ/+nhAD8lOOfw5zfWUvAAAAGUGbJUnhDomUwIb//qeEAcFxn+p7+z5Nb0EAAAAhQZtHSeEPJlMFETw3//6nhAYm+B4M2rqP0Cd/WUfXnK2BAAAADwGfZmpCvwIe7TJw2bTZKwAAABhBm2hJ4Q8mUwIb//6nhAYqhjU2pbw4UYEAAAAbQZuMSeEPJlMCGf/+nhAHG6+/nzo5VuKssE3AAAAAEEGfqkURPC//APf/FXkT7KEAAAAQAZ/JdEK/AVpOpPK/JTZS8AAAAA8Bn8tqQr8BY42u77vdvWAAAAAZQZvNSahBaJlMCGf//p4QBDfiHnW6BkhlnQAAABhBm+5J4QpSZTAhn/6eEAQX4h51ugZIZcUAAAAaQZoPSeEOiZTAhv/+p4QBBfkcBzdezPgiuf8AAAAfQZoxSeEPJlMFETwz//6eEAY2pzpsF5V8HwFM/hod0AAAABABnlBqQr8BP7IhNxn16apIAAAAGUGaUknhDyZTAhn//p4QBjjcBzInOp99j0kAAAAYQZpzSeEPJlMCG//+p4QBkfHTH+H1W3GrAAAAGEGalUnhDyZTBRE8N//+p4QA7CwFui3HHAAAAA8BnrRqQr8BLw1gXX9+1sEAAAAaQZq2SeEPJlMCG//+p4QBgvS6GJ17M+Bb1JwAAAAZQZrXSeEPJlMCHf/+qZYAvXox+OUhTB/fMQAAACZBmvtJ4Q8mUwIb//6nhAGh8gbbmWVz3j8ClS2fgUzsDCRs0XQmHwAAABJBnxlFETwv/wDnp6zBZz3qF3AAAAAPAZ84dEK/AS70ncGyXjIHAAAAEAGfOmpCvwE/sI8lzPkk5oAAAAAgQZs9SahBaJlMFPDf/qeEBQhWqY/0/zVQIT9ZR9l43oEAAAAPAZ9cakK/AfmzvXDZtPk7AAAAH0GbQUnhClJlMCG//qeEBbOP0Cd/nUfd1zNTboz40IAAAAAQQZ9/RTRML/8Bh41qb6/dcAAAABABn550Qr8CC2jvK2DgtpOBAAAADwGfgGpCvwILG13d57ZVQAAAABxBm4NJqEFomUwU8N/+p4QGJvgeDNrH7x078TjhAAAADwGfompCvwIe6p5MCp67NwAAAB5Bm6VJ4QpSZTBSw3/+p4QG6ALNn+z5qfSwlNqIxYEAAAAQAZ/EakK/AjLNzXHgzZlTQQAAABxBm8dJ4Q6JlMFEwz/+nhAHb6+/msXnOmxT6k7BAAAADwGf5mpCvwFjbbpRpDxJvwAAABhBm+hJ4Q8mUwIZ//6eEAQX4h/bIY+sIZ8AAAAdQZoKSeEPJlMFETwz//6eEAKz7pvtKoXLrZq2KmAAAAAQAZ4pakK/AI7K6KrOPwGiYQAAABhBmitJ4Q8mUwIZ//6eEAGx9fd2nN3Ft/wAAAAYQZpMSeEPJlMCGf/+nhACi8GOfw5zfWXdAAAAGEGabUnhDyZTAhn//p4QAo/umxlybKttbQAAABlBmo5J4Q8mUwIb//6nhAD3HGf6rfMfiDUhAAAAHUGasEnhDyZTBRE8N//+p4QA+HsH82kEtkGW1a5pAAAADwGez2pCvwDNkXzNsyNZswAAABlBmtFJ4Q8mUwIb//6nhADtewf4Tgt0JGBAAAAAG0Ga8knhDyZTAh3//qmWAE5+R0EM6WdHU8i/wQAAABJBmxZJ4Q8mUwId//6plgAAlYAAAAAMQZ80RRE8L/8AALKAAAAAEAGfU3RCvwC+9AOf1oHI+WEAAAAPAZ9VakK/AHw5w0SueXVBAAAAE0GbWkmoQWiZTAh3//6plgAAlYEAAAAUQZ94RREsL/8AjsfOmcV094fmvGkAAAAPAZ+XdEK/AMPJZuDZLxmXAAAADwGfmWpCvwDDktKkUCVSHwAAABlBm55JqEFsmUwId//+qZYAd1dMf77S+50nAAAAEEGfvEUVLC//AI7QGa6whcEAAAAPAZ/bdEK/AMPJZuDZLxmXAAAADwGf3WpCvwDD2IHkwRapgAAAABxBm8JJqEFsmUwIb//+p4QBcd+FGs23f0T/HM+YAAAAEEGf4EUVLC//ANeq8b2CKLkAAAAPAZ4fdEK/AS8QB0JyXcjAAAAAEAGeAWpCvwEm2iE3GfXpqykAAAAcQZoDSahBbJlMCHf//qmWAMKo51ogQB/f2EBFwAAAABtBmidJ4QpSZTAhv/6nhAPvvszQCza7B37TlbEAAAAQQZ5FRTRML/8BWw9DPDxXEQAAABABnmR0Qr8B0mlYtjZUo90xAAAADgGeZmpCvwHRhe9UlNkXAAAAGkGaakmoQWiZTAhv//6nhAOlvs+d4MhPyOOAAAAAD0GeiEURLCv/AcYH/NK44AAAAA8BnqlqQr8BLnmiakps2YEAAAAdQZqsSahBbJlMFEw3//6nhAF09E/xVrwPBuiyUnAAAAAQAZ7LakK/ASaWQw+gJBxNmAAAABlBms1J4QpSZTAhv/6nhADtewf4Tgt0JGBBAAAAGEGa8EnhDomUwIb//qeEAJ6PmPIxP8ttOwAAAA9Bnw5FETwr/wB/AVw1vmEAAAAOAZ8vakK/AH3UN30Iam4AAAAcQZsySahBaJlMFPDv/qmWAHzHUC0SblG+PPoTlQAAABABn1FqQr8AzbqnkwPXtsqBAAAAGEGbVknhClJlMCG//qeEAPh7B/nKiqd0XAAAABVBn3RFNEwv/wCW0BzaVyuRI52+n1wAAAAQAZ+TdEK/AM2ApnlfkpsvmQAAABABn5VqQr8AhsnznVMxu4WAAAAAGkGbmEmoQWiZTBTw7/6plgB82qA/32l9zouBAAAAEAGft2pCvwDNu1HK/WKRUUEAAAAbQZu8SeEKUmUwId/+qZYAyezqEGaAj7S/rWVMAAAAFUGf2kU0TC//AO0ffpnFtdIBczAycQAAABABn/l0Qr8BSMtUDp2oadmAAAAADwGf+2pCvwFIaymbZkayHwAAABxBm/9JqEFomUwId//+qZYAy/kdBDOlnR1LsmVBAAAAEkGeHUURLCv/Ad82B0ILC0xvQAAAAA4Bnj5qQr8B3rYy47/lNAAAAB1BmiFJqEFsmUwUTDv//qmWAMR48/kcanUINwbrjwAAABABnkBqQr8BLpPnOtDC8PTAAAAAGEGaRUnhClJlMCHf/qmWAMLU4T97S+3q7wAAABBBnmNFNEwv/wDcqu7/N2+4AAAADwGegnRCvwC+xjFwH5aS4QAAAA8BnoRqQr8BLtiPJgevbQ8AAAAcQZqJSahBaJlMCHf//qmWAiNnRAsz6pvRj0yrKQAAABBBnqdFESwv/wFlEa26wXHBAAAAEAGexnRCvwHfQrVeA1dlrYAAAAAPAZ7IakK/Ad9nmh1oUN6AAAAAG0GazUmoQWyZTAhv//6nhAQx9Kc42qZCfk47oQAAABBBnutFFSwv/wFlEbh3JjUgAAAAEAGfCnRCvwHegTM85iUzDUgAAAAPAZ8MakK/AT/lA8mCLM+BAAAAGUGbEEmoQWyZTAhv//6nhAGuCtHW5tI6g4EAAAARQZ8uRRUsK/8BSLCsEhK32cEAAAAOAZ9PakK/AUixMVwJJwQAAAAdQZtSSahBbJlMFEw3//6nhAWMVqmP9QAvYP0kKCAAAAAPAZ9xakK/AgtjsnDZtNkzAAAAHEGbdEnhClJlMFLDf/6nhAWzjT9rJeHFkKQuLKAAAAAQAZ+TakK/Ah7NzXHgzZlVQAAAABxBm5ZJ4Q6JlMFEw3/+p4QB2+wf5HF4cWQpLhqRAAAAEAGftWpCvwFabkMPoCQcS7gAAAAYQZu5SeEPJlMCGf/+nhAEUEOP54L+SGV9AAAAEkGf10URPCv/AOezF7CwX5Z4wQAAABABn/hqQr8A57PCHjQ1jKqAAAAAHEGb+0moQWiZTBTwz/6eEARX4h/jFdyN2bCqO6EAAAAQAZ4aakK/AO0rg1x4q2jvIAAAABhBmhxJ4QpSZTAhn/6eEALp7pvoqVmvfk8AAAAYQZo9SeEOiZTAhn/+nhAB3PX38iRH1hHHAAAAGEGaXknhDyZTAhn//p4QATb4h51ugZIc7AAAABlBmn9J4Q8mUwIb//6nhABNvjp9RxoSHFbAAAAAGUGagEnhDyZTAhv//qeEADJ+wf4Tgt0JccEAAAAWQZqkSeEPJlMCGf/+nhAAUbgxz+JnwAAAAA5BnsJFETwv/wAMkIuVIQAAABABnuF0Qr8AGhzk78AH2+zAAAAAEAGe42pCvwAaHOTvZ4+32YEAAAAZQZrlSahBaJlMCGf//p4QAH69cbe9N91wZwAAABlBmwZJ4QpSZTAhv/6nhAAg3x0+o40JDmVBAAAAGEGbJ0nhDomUwIb//qeEABWvdTj/D6tuowAAABlBm0hJ4Q8mUwId//6plgAKp76sqszbMFNAAAAAG0GbbEnhDyZTAhv//qeEAB+1gLNnwf6NLzaOHAAAABBBn4pFETwv/wATXPOzG3IXAAAADwGfqXRCvwAQW0IDJLnygAAAABABn6tqQr8AGmdU8mB694WAAAAAEkGbsEmoQWiZTAhn//6eEAAEfQAAAAxBn85FESwv/wAAsoEAAAAQAZ/tdEK/ACj9AOf1oHJywQAAABABn+9qQr8AGhzk72ePt9mAAAAAGkGb8UmoQWyZTAhv//6nhAAyNIn+q3zH4kHAAAAAGUGaEknhClJlMCG//qeEADNurSCET/Lb8IEAAAAYQZozSeEOiZTAh3/+qZYAKB8gzPwhxqlQAAAAEUGaV0nhDyZTAhv//qeEAAEnAAAAE0GedUURPC//AEdj59Fiu4tH0W8AAAAQAZ6UdEK/AGSsq7kNlSkR4AAAABABnpZqQr8AZJm5rjxVtJfhAAAAHEGamUmoQWiZTBTw3/6nhABP/dT9zIwtmKEcvvUAAAAQAZ64akK/AD+AvOdaGF5TwAAAABtBmr1J4QpSZTAhv/6nhAAyfsH+eQVqmQkW+mkAAAAQQZ7bRTRML/8AHbTqN7BLzAAAAA8Bnvp0Qr8AKPGEBklzD4EAAAAQAZ78akK/ACoUo3mmKtpywQAAABxBmv9JqEFomUwU8M/+nhAAf319/TZQuXWzVtvQAAAAEAGfHmpCvwAbAlv4D6/gRxAAAAAYQZsASeEKUmUwIZ/+nhAAUj3TYy5NlXJtAAAAGUGbIUnhDomUwIb//qeEABSPdT9RxoSHUkAAAAAeQZtDSeEPJlMFETw3//6nhAAT4Aasyd+wf1YPOLpBAAAAEAGfYmpCvwAP4z5jdDkg6aQAAAAdQZtlSeEPJlMFPDP//p4QAE2+c3x13nEu64j6pK8AAAAQAZ+EakK/AA/gLznWhhfHwQAAABpBm4lL4QhDyRGCCgH8gH9h4AhX//44QAARcQAAACNBn6dFETwv/wIB3OpL2zMKuYDoGrWoXAlAGWiTwt8ykzScMQAAAA8Bn8Z0Qr8ACh2UcR2XZl8AAAAnAZ/IakK/Aq9j7UHE3arDSSblqoYHLLW7zSojuAB35DSesg22lSdgAAALkG1vb3YAAABsbXZoZAAAAAAAAAAAAAAAAAAAA+gAAB+QAAEAAAEAAAAAAAAAAAAAAAABAAAAAAAAAAAAAAAAAAAAAQAAAAAAAAAAAAAAAAAAQAAAAAAAAAAAAAAAAAAAAAAAAAAAAAAAAAAAAAAAAAIAAAq6dHJhawAAAFx0a2hkAAAAAwAAAAAAAAAAAAAAAQAAAAAAAB+QAAAAAAAAAAAAAAAAAAAAAAABAAAAAAAAAAAAAAAAAAAAAQAAAAAAAAAAAAAAAAAAQAAAAAEQAAABEAAAAAAAJGVkdHMAAAAcZWxzdAAAAAAAAAABAAAfkAAABAAAAQAAAAAKMm1kaWEAAAAgbWRoZAAAAAAAAAAAAAAAAAAAMgAAAZQAVcQAAAAAAC1oZGxyAAAAAAAAAAB2aWRlAAAAAAAAAAAAAAAAVmlkZW9IYW5kbGVyAAAACd1taW5mAAAAFHZtaGQAAAABAAAAAAAAAAAAAAAkZGluZgAAABxkcmVmAAAAAAAAAAEAAAAMdXJsIAAAAAEAAAmdc3RibAAAAJVzdHNkAAAAAAAAAAEAAACFYXZjMQAAAAAAAAABAAAAAAAAAAAAAAAAAAAAAAEQARAASAAAAEgAAAAAAAAAAQAAAAAAAAAAAAAAAAAAAAAAAAAAAAAAAAAAAAAAAAAAABj//wAAAC9hdmNDAfQADf/hABdn9AANkZsoIhHQgAAAAwCAAAAZB4oUywEABWjr48RIAAAAGHN0dHMAAAAAAAAAAQAAAMoAAAIAAAAAFHN0c3MAAAAAAAAAAQAAAAEAAAVoY3R0cwAAAAAAAACrAAAAAQAABAAAAAABAAAGAAAAAAEAAAIAAAAAAgAABAAAAAABAAAGAAAAAAEAAAIAAAAABAAABAAAAAABAAAKAAAAAAEAAAQAAAAAAQAAAAAAAAABAAACAAAAAAEAAAgAAAAAAgAAAgAAAAABAAAEAAAAAAEAAAgAAAAAAgAAAgAAAAABAAAGAAAAAAEAAAIAAAAAAQAABAAAAAABAAAKAAAAAAEAAAQAAAAAAQAAAAAAAAABAAACAAAAAAEAAAYAAAAAAQAAAgAAAAABAAAKAAAAAAEAAAQAAAAAAQAAAAAAAAABAAACAAAAAAMAAAQAAAAAAQAABgAAAAABAAACAAAAAAEAAAQAAAAAAQAACgAAAAABAAAEAAAAAAEAAAAAAAAAAQAAAgAAAAADAAAEAAAAAAEAAAYAAAAAAQAAAgAAAAACAAAEAAAAAAEAAAYAAAAAAQAAAgAAAAACAAAEAAAAAAEAAAoAAAAAAQAABAAAAAABAAAAAAAAAAEAAAIAAAAAAQAABgAAAAABAAACAAAAAAEAAAoAAAAAAQAABAAAAAABAAAAAAAAAAEAAAIAAAAAAQAABgAAAAABAAACAAAAAAEAAAYAAAAAAQAAAgAAAAABAAAGAAAAAAEAAAIAAAAAAQAABAAAAAABAAAGAAAAAAEAAAIAAAAABAAABAAAAAABAAAGAAAAAAEAAAIAAAAAAgAABAAAAAABAAAKAAAAAAEAAAQAAAAAAQAAAAAAAAABAAACAAAAAAEAAAoAAAAAAQAABAAAAAABAAAAAAAAAAEAAAIAAAAAAQAACgAAAAABAAAEAAAAAAEAAAAAAAAAAQAAAgAAAAABAAAKAAAAAAEAAAQAAAAAAQAAAAAAAAABAAACAAAAAAEAAAQAAAAAAQAACgAAAAABAAAEAAAAAAEAAAAAAAAAAQAAAgAAAAABAAAIAAAAAAIAAAIAAAAAAQAABgAAAAABAAACAAAAAAEAAAQAAAAAAQAACAAAAAACAAACAAAAAAEAAAYAAAAAAQAAAgAAAAABAAAKAAAAAAEAAAQAAAAAAQAAAAAAAAABAAACAAAAAAEAAAYAAAAAAQAAAgAAAAABAAAKAAAAAAEAAAQAAAAAAQAAAAAAAAABAAACAAAAAAEAAAgAAAAAAgAAAgAAAAABAAAGAAAAAAEAAAIAAAAAAQAACgAAAAABAAAEAAAAAAEAAAAAAAAAAQAAAgAAAAABAAAKAAAAAAEAAAQAAAAAAQAAAAAAAAABAAACAAAAAAEAAAoAAAAAAQAABAAAAAABAAAAAAAAAAEAAAIAAAAAAQAACAAAAAACAAACAAAAAAEAAAYAAAAAAQAAAgAAAAABAAAGAAAAAAEAAAIAAAAAAQAABgAAAAABAAACAAAAAAEAAAgAAAAAAgAAAgAAAAABAAAGAAAAAAEAAAIAAAAABQAABAAAAAABAAAKAAAAAAEAAAQAAAAAAQAAAAAAAAABAAACAAAAAAQAAAQAAAAAAQAACgAAAAABAAAEAAAAAAEAAAAAAAAAAQAAAgAAAAABAAAKAAAAAAEAAAQAAAAAAQAAAAAAAAABAAACAAAAAAMAAAQAAAAAAQAACgAAAAABAAAEAAAAAAEAAAAAAAAAAQAAAgAAAAABAAAGAAAAAAEAAAIAAAAAAQAACgAAAAABAAAEAAAAAAEAAAAAAAAAAQAAAgAAAAABAAAGAAAAAAEAAAIAAAAAAgAABAAAAAABAAAGAAAAAAEAAAIAAAAAAQAABgAAAAABAAACAAAAAAEAAAoAAAAAAQAABAAAAAABAAAAAAAAAAEAAAIAAAAAHHN0c2MAAAAAAAAAAQAAAAEAAADKAAAAAQAAAzxzdHN6AAAAAAAAAAAAAADKAAAF5gAAABkAAAATAAAAGgAAABwAAAAhAAAAFAAAABwAAAAcAAAAHAAAAB8AAAAcAAAAFAAAABIAAAAUAAAAHgAAABMAAAARAAAAHQAAAB0AAAAWAAAAEgAAAB8AAAAUAAAAHQAAACAAAAAXAAAAFAAAABMAAAAdAAAAFAAAAB0AAAAUAAAAEwAAABQAAAAdAAAAHAAAAB0AAAAlAAAAEwAAABwAAAAfAAAAFAAAABQAAAATAAAAHQAAABwAAAAeAAAAIwAAABQAAAAdAAAAHAAAABwAAAATAAAAHgAAAB0AAAAqAAAAFgAAABMAAAAUAAAAJAAAABMAAAAjAAAAFAAAABQAAAATAAAAIAAAABMAAAAiAAAAFAAAACAAAAATAAAAHAAAACEAAAAUAAAAHAAAABwAAAAcAAAAHQAAACEAAAATAAAAHQAAAB8AAAAWAAAAEAAAABQAAAATAAAAFwAAABgAAAATAAAAEwAAAB0AAAAUAAAAEwAAABMAAAAgAAAAFAAAABMAAAAUAAAAIAAAAB8AAAAUAAAAFAAAABIAAAAeAAAAEwAAABMAAAAhAAAAFAAAAB0AAAAcAAAAEwAAABIAAAAgAAAAFAAAABwAAAAZAAAAFAAAABQAAAAeAAAAFAAAAB8AAAAZAAAAFAAAABMAAAAgAAAAFgAAABIAAAAhAAAAFAAAABwAAAAUAAAAEwAAABMAAAAgAAAAFAAAABQAAAATAAAAHwAAABQAAAAUAAAAEwAAAB0AAAAVAAAAEgAAACEAAAATAAAAIAAAABQAAAAgAAAAFAAAABwAAAAWAAAAFAAAACAAAAAUAAAAHAAAABwAAAAcAAAAHQAAAB0AAAAaAAAAEgAAABQAAAAUAAAAHQAAAB0AAAAcAAAAHQAAAB8AAAAUAAAAEwAAABQAAAAWAAAAEAAAABQAAAAUAAAAHgAAAB0AAAAcAAAAFQAAABcAAAAUAAAAFAAAACAAAAAUAAAAHwAAABQAAAATAAAAFAAAACAAAAAUAAAAHAAAAB0AAAAiAAAAFAAAACEAAAAUAAAAHgAAACcAAAATAAAAKwAAABRzdGNvAAAAAAAAAAEAAAAwAAAAYnVkdGEAAABabWV0YQAAAAAAAAAhaGRscgAAAAAAAAAAbWRpcmFwcGwAAAAAAAAAAAAAAAAtaWxzdAAAACWpdG9vAAAAHWRhdGEAAAABAAAAAExhdmY1OC4yOS4xMDA=\" type=\"video/mp4\" />\n",
       "             </video>"
      ],
      "text/plain": [
       "<IPython.core.display.HTML object>"
      ]
     },
     "execution_count": 13,
     "metadata": {},
     "output_type": "execute_result"
    }
   ],
   "source": [
    "# Initialize the game\n",
    "env = Environment(grid_size=size, max_time=T, temperature=temperature)\n",
    "\n",
    "# Initialize the agent!\n",
    "agent = RandomAgent()\n",
    "\n",
    "test(agent, env, epochs_test, prefix='random')\n",
    "HTML(display_videos('random1.mp4'))"
   ]
  },
  {
   "cell_type": "markdown",
   "metadata": {},
   "source": [
    "> A random agent is not great and performs really badly... Let's head to a more suitable approach when actually learning something by reinforcement. However, this agent will be useful to draw comparisons when modifying the environment."
   ]
  },
  {
   "cell_type": "markdown",
   "metadata": {},
   "source": [
    "***\n",
    "## DQN"
   ]
  },
  {
   "cell_type": "markdown",
   "metadata": {},
   "source": [
    "***\n",
    "The DQN-learning algorithm relies on these derivations to train the parameters $\\theta$ of a Deep Neural Network:\n",
    "\n",
    "1. At the state $s_t$, select the action $a_t$ with best reward using $Q_t$ and store the results;\n",
    "\n",
    "2. Obtain the new state $s_{t+1}$ from the environment $p$;\n",
    "\n",
    "3. Store $(s_t,a_t,s_{t+1})$;\n",
    "\n",
    "4. Obtain $Q_{t+1}$ by minimizing  $\\mathcal{L}$ from a recovered batch from the previously stored results.\n",
    "\n",
    "***\n",
    "We will need a class ```Memory``` that stores moves (in a replay buffer) via ```remember``` and provides a ```random_access``` to these. A maximum memory size is required to avoid side effects."
   ]
  },
  {
   "cell_type": "code",
   "execution_count": 14,
   "metadata": {},
   "outputs": [],
   "source": [
    "class Memory(object):\n",
    "    def __init__(self, max_memory=100):\n",
    "        self.max_memory = max_memory\n",
    "        self.memory = list()\n",
    "\n",
    "    def remember(self, m):\n",
    "        self.memory.append(m)\n",
    "        if len(self.memory)>100:\n",
    "            self.memory = self.memory[-100:]\n",
    "\n",
    "    def random_access(self):\n",
    "        return self.memory[np.random.randint(len(self.memory))]"
   ]
  },
  {
   "cell_type": "code",
   "execution_count": 23,
   "metadata": {},
   "outputs": [],
   "source": [
    "class DQN(Agent):\n",
    "    def __init__(self, grid_size,  epsilon = 0.1, memory_size=100, batch_size = 16, n_state=3):\n",
    "        super(DQN, self).__init__(epsilon = epsilon)\n",
    "\n",
    "        # Discount for Q learning\n",
    "        self.discount = 0.8 # previous : 0.99\n",
    "        \n",
    "        self.grid_size = grid_size\n",
    "        \n",
    "        # number of state\n",
    "        self.n_state = n_state\n",
    "\n",
    "        # Memory\n",
    "        self.memory = Memory(memory_size)\n",
    "        \n",
    "        # Batch size when learning\n",
    "        self.batch_size = batch_size\n",
    "\n",
    "    def learned_act(self, s):\n",
    "        pred_rwd_per_action = self.model.predict(s.reshape(1,5,5,self.n_state))\n",
    "        return np.argmax(pred_rwd_per_action)\n",
    "\n",
    "    def reinforce(self, s_, n_s_, a_, r_, game_over_):\n",
    "        # Two steps: first memorize the states, second learn from the pool\n",
    "\n",
    "        self.memory.remember([s_, n_s_, a_, r_, game_over_])\n",
    "        \n",
    "        input_states = np.zeros((self.batch_size, 5, 5, self.n_state))\n",
    "        target_q = np.zeros((self.batch_size, 4))\n",
    "        \n",
    "        for i in range(self.batch_size):\n",
    "            sample = self.memory.random_access()\n",
    "            input_states[i,:,:,:] = sample[0]\n",
    "            \n",
    "            target_q[i, sample[2]] = sample[3]\n",
    "            if not game_over_:\n",
    "                target_q[i, sample[2]] += self.discount*np.max(self.model.predict(sample[1].reshape(1,5,5,self.n_state)).flatten())\n",
    "        \n",
    "        target_q = np.clip(target_q, -30, 30)\n",
    "\n",
    "        l = self.model.train_on_batch(input_states, target_q)\n",
    "\n",
    "        return l\n",
    "\n",
    "    def save(self, name_weights='model.h5', name_model='model.json'):\n",
    "        self.model.save_weights('runs/'+name_weights, overwrite=True)\n",
    "        with open('runs/'+name_model, \"w\") as outfile:\n",
    "            json.dump(self.model.to_json(), outfile)\n",
    "            \n",
    "    def load(self,name_weights='model.h5',name_model='model.json'):\n",
    "        with open('runs/'+name_model, \"r\") as jfile:\n",
    "            model = model_from_json(json.load(jfile))\n",
    "        model.load_weights('runs/'+name_weights)\n",
    "        model.compile(\"sgd\", \"mse\")\n",
    "        self.model = model\n",
    "\n",
    "\n",
    "def my_custom_loss(y_true,y_pred):\n",
    "    \"\"\"\n",
    "    Let's have a look at the issue when using the MSE loss. Take for example the situation in which :\n",
    "       - Target = [   0, 0.8,    0,   0]\n",
    "       - Output = [-0.3, 0.1, -1.5, 4.1]\n",
    "    Then the MSE loss will also consider the distance between 0 and the conrresponding output value even though\n",
    "    0 means that we don't have the information since the action wasn't considered. Thus the algorithm is mislead\n",
    "    with a wrong information and it actually learns either to reproduce it's output, or to only output values\n",
    "    close to 0.\n",
    "    \n",
    "    What could be much more meaningful would be to only consider the squared deviation between the target and\n",
    "    the output but only for the information that we have.\n",
    "    \"\"\"\n",
    "    norm = K.sum(y_true, axis=-1)+1e-6 # Get the value of the non-zero element from the target\n",
    "    norm = K.reshape(norm, shape=(-1,1)) # Reshape it in order to concatenate it after\n",
    "    norm = K.concatenate([norm, norm, norm, norm],axis=-1) # Concatenate in order to allow the next operation\n",
    "    loss = K.sum(K.square(y_true * (y_true - y_pred) / norm), axis=-1) # Multiply the deviation by the target\n",
    "    # thus the non selected actions won't be considered in the loss (and divide by the norm of the target not \n",
    "    # to impact the final loss)\n",
    "    return loss\n",
    "\n",
    "class DQN_FC(DQN):\n",
    "    def __init__(self, *args, lr=0.1,**kwargs):\n",
    "        super(DQN_FC, self).__init__( *args,**kwargs)\n",
    "        \n",
    "        # NN Model\n",
    "        \n",
    "        model = Sequential()\n",
    "        model.add(Flatten())\n",
    "        model.add(Dense(32))\n",
    "        model.add(Dense(64))\n",
    "        model.add(Dense(4))\n",
    "        \n",
    "        loss = my_custom_loss #\"mse\"\n",
    "        optimizer = Adam(lr=lr) #sgd(lr=lr, decay=1e-4, momentum=0.0), loss=\"mse\")\n",
    "        \n",
    "        model.compile(optimizer=optimizer, loss=loss)\n",
    "        self.model = model\n",
    "        "
   ]
  },
  {
   "cell_type": "code",
   "execution_count": 24,
   "metadata": {},
   "outputs": [
    {
     "name": "stdout",
     "output_type": "stream",
     "text": [
      "Epoch 001/020 | Loss 0.0179 | Win/lose count 5.5/11.0 (-5.5)\n",
      "Epoch 002/020 | Loss 0.0799 | Win/lose count 3.5/7.0 (-3.5)\n",
      "Epoch 003/020 | Loss 0.0307 | Win/lose count 7.0/12.0 (-5.0)\n",
      "Epoch 004/020 | Loss 0.0007 | Win/lose count 14.0/13.0 (1.0)\n",
      "Epoch 005/020 | Loss 0.0391 | Win/lose count 13.5/10.0 (3.5)\n",
      "Epoch 006/020 | Loss 0.0000 | Win/lose count 7.5/3.0 (4.5)\n",
      "Epoch 007/020 | Loss 0.0186 | Win/lose count 15.0/8.0 (7.0)\n",
      "Epoch 008/020 | Loss 0.0233 | Win/lose count 7.5/3.0 (4.5)\n",
      "Epoch 009/020 | Loss 0.0000 | Win/lose count 7.0/2.0 (5.0)\n",
      "Epoch 010/020 | Loss 0.0177 | Win/lose count 12.0/6.0 (6.0)\n",
      "Epoch 011/020 | Loss 0.0003 | Win/lose count 8.5/8.0 (0.5)\n",
      "Epoch 012/020 | Loss 0.0042 | Win/lose count 8.0/5.0 (3.0)\n",
      "Epoch 013/020 | Loss 0.0234 | Win/lose count 14.0/4.0 (10.0)\n",
      "Epoch 014/020 | Loss 0.0348 | Win/lose count 12.0/6.0 (6.0)\n",
      "Epoch 015/020 | Loss 0.0112 | Win/lose count 10.0/1.0 (9.0)\n",
      "Epoch 016/020 | Loss 0.0120 | Win/lose count 8.5/8.0 (0.5)\n",
      "Epoch 017/020 | Loss 0.0169 | Win/lose count 14.0/5.0 (9.0)\n",
      "Epoch 018/020 | Loss 0.0131 | Win/lose count 5.0/5.0 (0.0)\n",
      "Epoch 019/020 | Loss 0.0017 | Win/lose count 8.5/5.0 (3.5)\n",
      "Epoch 020/020 | Loss 0.0000 | Win/lose count 10.5/4.0 (6.5)\n"
     ]
    },
    {
     "data": {
      "text/html": [
       "<video alt=\"test\" controls>\n",
       "                <source src=\"data:video/mp4;base64,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\" type=\"video/mp4\" />\n",
       "             </video>"
      ],
      "text/plain": [
       "<IPython.core.display.HTML object>"
      ]
     },
     "execution_count": 24,
     "metadata": {},
     "output_type": "execute_result"
    }
   ],
   "source": [
    "K.clear_session()\n",
    "env = Environment(grid_size=size, max_time=T, temperature=0.3)\n",
    "agent = DQN_FC(size, lr=.0001, epsilon = 0.3, memory_size=2000, batch_size = 64)\n",
    "train(agent, env, epoch=20, prefix='fc_train')\n",
    "HTML(display_videos('fc_train20.mp4'))\n",
    "\n",
    "# we get impressively good results ! \n",
    "# It could be interesting to select the best set of parameters with a grid search"
   ]
  },
  {
   "cell_type": "markdown",
   "metadata": {},
   "source": [
    "***\n",
    "What if we were using a CNN instead ?"
   ]
  },
  {
   "cell_type": "code",
   "execution_count": 25,
   "metadata": {},
   "outputs": [],
   "source": [
    "class DQN_CNN(DQN):\n",
    "    def __init__(self, *args,lr=0.1,**kwargs):\n",
    "        super(DQN_CNN, self).__init__(*args,**kwargs)\n",
    "        \n",
    "        model = Sequential()\n",
    "        model.add(Conv2D(32, kernel_size=(3,3), activation='relu'))\n",
    "        model.add(Conv2D(64, kernel_size=(3,3), activation='relu'))\n",
    "        model.add(Flatten())\n",
    "        model.add(Dense(16))\n",
    "        model.add(Dense(4))\n",
    "        \n",
    "        loss = my_custom_loss #\"mse\"\n",
    "        optimizer = Adam(lr=lr) #sgd(lr=lr, decay=1e-4, momentum=0.0), loss=\"mse\")\n",
    "        \n",
    "        model.compile(optimizer=optimizer, loss=loss)\n",
    "        self.model = model"
   ]
  },
  {
   "cell_type": "code",
   "execution_count": 26,
   "metadata": {},
   "outputs": [
    {
     "name": "stdout",
     "output_type": "stream",
     "text": [
      "Epoch 001/020 | Loss 0.0091 | Win/lose count 9.0/10.0 (-1.0)\n",
      "Epoch 002/020 | Loss 0.0931 | Win/lose count 13.0/9.0 (4.0)\n",
      "Epoch 003/020 | Loss 0.0179 | Win/lose count 15.0/8.0 (7.0)\n",
      "Epoch 004/020 | Loss 0.0050 | Win/lose count 19.0/5.0 (14.0)\n",
      "Epoch 005/020 | Loss 0.2878 | Win/lose count 18.5/9.0 (9.5)\n",
      "Epoch 006/020 | Loss 0.0989 | Win/lose count 16.0/3.0 (13.0)\n",
      "Epoch 007/020 | Loss 0.1130 | Win/lose count 17.5/2.0 (15.5)\n",
      "Epoch 008/020 | Loss 0.0000 | Win/lose count 9.5/8.0 (1.5)\n",
      "Epoch 009/020 | Loss 0.0198 | Win/lose count 23.0/6.0 (17.0)\n",
      "Epoch 010/020 | Loss 0.0455 | Win/lose count 16.5/4.0 (12.5)\n",
      "Epoch 011/020 | Loss 0.2711 | Win/lose count 18.5/6.0 (12.5)\n",
      "Epoch 012/020 | Loss 0.0063 | Win/lose count 18.0/4.0 (14.0)\n",
      "Epoch 013/020 | Loss 0.0067 | Win/lose count 14.5/7.0 (7.5)\n",
      "Epoch 014/020 | Loss 0.1494 | Win/lose count 24.5/5.0 (19.5)\n",
      "Epoch 015/020 | Loss 0.0000 | Win/lose count 10.5/2.0 (8.5)\n",
      "Epoch 016/020 | Loss 0.0002 | Win/lose count 19.0/3.0 (16.0)\n",
      "Epoch 017/020 | Loss 0.0002 | Win/lose count 18.5/7.0 (11.5)\n",
      "Epoch 018/020 | Loss 0.0400 | Win/lose count 23.0/9.0 (14.0)\n",
      "Epoch 019/020 | Loss 0.1098 | Win/lose count 18.0/7.0 (11.0)\n",
      "Epoch 020/020 | Loss 0.0022 | Win/lose count 15.0/3.0 (12.0)\n"
     ]
    },
    {
     "data": {
      "text/html": [
       "<video alt=\"test\" controls>\n",
       "                <source src=\"data:video/mp4;base64,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\" type=\"video/mp4\" />\n",
       "             </video>"
      ],
      "text/plain": [
       "<IPython.core.display.HTML object>"
      ]
     },
     "execution_count": 26,
     "metadata": {},
     "output_type": "execute_result"
    }
   ],
   "source": [
    "K.clear_session()\n",
    "env = Environment(grid_size=size, max_time=T, temperature=0.3)\n",
    "agent = DQN_CNN(size, lr=.001, epsilon = 0.2, memory_size=2000, batch_size = 64)\n",
    "train(agent, env, epoch=20, prefix='cnn_train')\n",
    "HTML(display_videos('cnn_train20.mp4'))\n",
    "\n",
    "### Comments :\n",
    "# The loss represents the learning of the algorithm and the win/lose count represents somehow how well does the\n",
    "# algorithm generalizes."
   ]
  },
  {
   "cell_type": "markdown",
   "metadata": {},
   "source": [
    "***\n",
    "***\n",
    "Compare both algorithms' performances :"
   ]
  },
  {
   "cell_type": "code",
   "execution_count": 29,
   "metadata": {},
   "outputs": [
    {
     "name": "stdout",
     "output_type": "stream",
     "text": [
      "Test of the CNN\n",
      "Win/lose count 11.0/5.0. Average score (6.0)\n",
      "Win/lose count 15.0/4.0. Average score (8.5)\n",
      "Win/lose count 14.5/5.0. Average score (8.833333333333334)\n",
      "Win/lose count 15.5/2.0. Average score (10.0)\n",
      "Win/lose count 14.5/0. Average score (10.9)\n",
      "Win/lose count 19.5/2.0. Average score (12.0)\n",
      "Win/lose count 15.5/1.0. Average score (12.357142857142858)\n",
      "Win/lose count 18.5/6.0. Average score (12.375)\n",
      "Win/lose count 17.0/3.0. Average score (12.555555555555555)\n",
      "Win/lose count 21.0/6.0. Average score (12.8)\n",
      "Final score: 12.8\n",
      "Test of the FC\n",
      "Win/lose count 6.5/4.0. Average score (2.5)\n",
      "Win/lose count 7.5/3.0. Average score (3.5)\n",
      "Win/lose count 12.5/2.0. Average score (5.833333333333333)\n",
      "Win/lose count 7.5/3.0. Average score (5.5)\n",
      "Win/lose count 15.0/1.0. Average score (7.2)\n",
      "Win/lose count 5.5/0. Average score (6.916666666666667)\n",
      "Win/lose count 6.5/0. Average score (6.857142857142857)\n",
      "Win/lose count 17.0/3.0. Average score (7.75)\n",
      "Win/lose count 13.5/3.0. Average score (8.055555555555555)\n",
      "Win/lose count 11.0/5.0. Average score (7.85)\n",
      "Final score: 7.85\n"
     ]
    }
   ],
   "source": [
    "K.clear_session()\n",
    "env = Environment(grid_size=size, max_time=T,temperature=0.3)\n",
    "agent_cnn = DQN_CNN(size, lr=.1, epsilon = 0.1, memory_size=2000, batch_size = 32)\n",
    "agent_cnn.load(name_weights='cnn_train_model.h5', name_model='cnn_train_model.json')\n",
    "\n",
    "agent_fc = DQN_FC(size, lr=.1, epsilon = 0.1, memory_size=2000, batch_size = 32)\n",
    "agent_fc.load(name_weights='fc_train_model.h5', name_model='fc_train_model.json')\n",
    "print('Test of the CNN')\n",
    "test(agent_cnn, env, epochs_test, prefix='cnn_test')\n",
    "print('Test of the FC')\n",
    "test(agent_fc, env, epochs_test, prefix='fc_test')"
   ]
  },
  {
   "cell_type": "code",
   "execution_count": 30,
   "metadata": {},
   "outputs": [
    {
     "data": {
      "text/html": [
       "<video alt=\"test\" controls>\n",
       "                <source src=\"data:video/mp4;base64,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\" type=\"video/mp4\" />\n",
       "             </video>"
      ],
      "text/plain": [
       "<IPython.core.display.HTML object>"
      ]
     },
     "execution_count": 30,
     "metadata": {},
     "output_type": "execute_result"
    }
   ],
   "source": [
    "HTML(display_videos('cnn_test10.mp4'))"
   ]
  },
  {
   "cell_type": "code",
   "execution_count": 31,
   "metadata": {},
   "outputs": [
    {
     "data": {
      "text/html": [
       "<video alt=\"test\" controls>\n",
       "                <source src=\"data:video/mp4;base64,AAAAIGZ0eXBpc29tAAACAGlzb21pc28yYXZjMW1wNDEAAAAIZnJlZQAAF2ZtZGF0AAACnwYF//+b3EXpvebZSLeWLNgg2SPu73gyNjQgLSBjb3JlIDE1MiAtIEguMjY0L01QRUctNCBBVkMgY29kZWMgLSBDb3B5bGVmdCAyMDAzLTIwMTcgLSBodHRwOi8vd3d3LnZpZGVvbGFuLm9yZy94MjY0Lmh0bWwgLSBvcHRpb25zOiBjYWJhYz0xIHJlZj0zIGRlYmxvY2s9MTowOjAgYW5hbHlzZT0weDE6MHgxMTEgbWU9aGV4IHN1Ym1lPTcgcHN5PTEgcHN5X3JkPTEuMDA6MC4wMCBtaXhlZF9yZWY9MSBtZV9yYW5nZT0xNiBjaHJvbWFfbWU9MSB0cmVsbGlzPTEgOHg4ZGN0PTAgY3FtPTAgZGVhZHpvbmU9MjEsMTEgZmFzdF9wc2tpcD0xIGNocm9tYV9xcF9vZmZzZXQ9NCB0aHJlYWRzPTYgbG9va2FoZWFkX3RocmVhZHM9MSBzbGljZWRfdGhyZWFkcz0wIG5yPTAgZGVjaW1hdGU9MSBpbnRlcmxhY2VkPTAgYmx1cmF5X2NvbXBhdD0wIGNvbnN0cmFpbmVkX2ludHJhPTAgYmZyYW1lcz0zIGJfcHlyYW1pZD0yIGJfYWRhcHQ9MSBiX2JpYXM9MCBkaXJlY3Q9MSB3ZWlnaHRiPTEgb3Blbl9nb3A9MCB3ZWlnaHRwPTIga2V5aW50PTI1MCBrZXlpbnRfbWluPTI1IHNjZW5lY3V0PTQwIGludHJhX3JlZnJlc2g9MCByY19sb29rYWhlYWQ9NDAgcmM9Y3JmIG1idHJlZT0xIGNyZj0yMy4wIHFjb21wPTAuNjAgcXBtaW49MCBxcG1heD02OSBxcHN0ZXA9NCBpcF9yYXRpbz0xLjQwIGFxPTE6MS4wMACAAAAC8GWIhAA3//72h/gU2VgT/lm//Q1/3I/bj6z9cWMhBN9aryHowBkvtR/m/6xRbOmelAf34AiUAHNuGcKR2Sd444SUmEXqj4FLgJ9+BTSZFPoxzPA9u+4jw35xJKTx0qjtqlFwSzrRlWufKo/8qhwQoFi+YG3pC/GKEOfvJdo9LlkjghDbIdbDb6D7iQjsROsSlh7FLojRupQuPv5nR0v68gDGHVTcdSNv2WyrnoQKiVlwW5JDJbrKBQQtkS3NO8e/MB5XJOoPg5myJkaisTnmga9wroIyKAKT1bSQKklM/YCvP0f6cJ47AR8Hzhpz0HSS1mzFQr55P8/fcmuyPLDQ7cmv183HRY1z9aSRz8TnyQnZs8ZbZE0Jo4C56lHxeSz+bFQXly462XBJLOZiihffqQpy9XRo6vhTJb5M4oTLMnzZRpxqgf3W4M4NhJsZU8lCj8S7RNHCEpS2ZbsF6340Tnw+P7rpIr0AEr5JIpmHTE/8SecOkYD8jeERitbDp9wsOBIDBgRveLladsAMckAQbxk9Talt0Q3WqZp5QWCmZHahQAlrAjewOsDTkFDIempP9bbkqrvEgpyuv6kO+NMcMALFNFNbnrznedUBbNbPGn5fqaW/BDDOKIINWr45Ak4mUGpsIjFLE9Q/B6M/vmBIL/VghEj7/w3dnAfMDGs0LnAqufdB0zok2MDBQeZOPGODTbr3ZPeYNz9me8ypoGPtLXzGTuPofoCCJZ5kM3mMLvjn8x2dqG4j+BC006oTvv72dNAmuTRvWruMxOAH2vlssGaKOKPHo+VC70nr/oT1bz28FRfQxcxedU6yDFliTzQGyRGOgDVRDdaRaAhKjzzBHXgFvDxCvgAj/p2EFUy0EOYy3iKOdLQVtgsLxrDaXb+EBM/DyuRje5yDPHwWxmygGMkRz7zJcXRbLgSdnR0RIxsGDYV7tN5ElIKLV6V++0t1eoT5J4TPBgAE7Z/O6xJPI5wo0RxGlQwNROoOozdYADvhAAAAFEGaIWxDf/6nhAAJKZ8c4XGzBeTAAAAAHEGaRDwhkymEN//+p4QACXfHT3wzzsXIRQkScmEAAAASQZ5ialPCvwAHmVwa48VTlwGAAAAAEAGeg2pCvwAHmCA+A+v4IDEAAAAdQZqGSahBaJlMFPDf/qeEAAX/2D/LXSDVsxQkUdcAAAAPAZ6lakK/AATWVulGkPMXAAAAGEGap0nhClJlMCG//qeEAAO57B69mfBGjwAAABtBmshJ4Q6JlMCHf/6plgAB1PiEA/vC1BP7HXAAAAAiQZrqSeEPJlMFETw7//6plgACt6WcoM0Cn0Y+veAf33DWgAAAABABnwlqQr8ABFdohNxn17I5AAAAEkGbDknhDyZTAh3//qmWAACVgAAAAAxBnyxFETwv/wAAsoAAAAAQAZ9LdEK/AAR3cd5gljahsQAAABABn01qQr8ABHXmiZdB09k5AAAAE0GbUkmoQWiZTAh3//6plgAAlYEAAAAMQZ9wRREsL/8AALKAAAAAEAGfj3RCvwAEd3HeYJY2obAAAAAQAZ+RakK/AAR15omXQdPZOQAAABNBm5ZJqEFsmUwId//+qZYAAJWAAAAADEGftEUVLC//AACygAAAABABn9N0Qr8ABHdx3mCWNqGxAAAAEAGf1WpCvwAESWLditH3W0AAAAASQZvaSahBbJlMCG///qeEAAEnAAAADEGf+EUVLC//AACygQAAABABnhd0Qr8ABHdx3mCWNqGwAAAAEAGeGWpCvwAEdeaJl0HT2TkAAAASQZoeSahBbJlMCGf//p4QAAR8AAAADEGePEUVLC//AACygQAAABABnlt0Qr8ABHdx3mCWNqGxAAAAEAGeXWpCvwAEdeaJl0HT2TgAAAAaQZpfSahBbJlMCG///qeEAAWHFaOj7jZgxrAAAAAYQZpgSeEKUmUwIb/+p4QACGoAs2xihPPBAAAAHUGagknhDomUwU0TDf/+p4QACOj7nsjE/k0vARbQAAAAEAGeoWpCvwAHQZg8lzPlLYEAAAAZQZqjSeEPJlMCHf/+qZYABIfo5pZ0dTzNwAAAABxBmsVJ4Q8mUwURPDv//qmWAAajJ+M0Cn0Y/TbdAAAAEAGe5GpCvwAKzZEJuM+vVnkAAAASQZrpSeEPJlMCHf/+qZYAAJWBAAAADEGfB0URPC//AACygQAAAA8BnyZ0Qr8ACxWjujtvhkcAAAAPAZ8oakK/AAsSjRBajzBHAAAAE0GbLUmoQWiZTAh3//6plgAAlYEAAAAMQZ9LRREsL/8AALKAAAAADwGfanRCvwALFaO6O2+GRwAAAA8Bn2xqQr8ACxKNEFqPMEcAAAATQZtxSahBbJlMCHf//qmWAACVgQAAAAxBn49FFSwv/wAAsoEAAAAPAZ+udEK/AAsVo7o7b4ZHAAAADwGfsGpCvwALEo0QWo8wRwAAABxBm7VJqEFsmUwId//+qZYABqvaX9iwHRAtxjLvAAAAEEGf00UVLC//AAfFOo3sGHQAAAAPAZ/ydEK/AAsVo7zzjCOAAAAAEAGf9GpCvwALFSjeaYq2yuEAAAAZQZv5SahBbJlMCHf//qmWAAai50j++r7u/QAAABBBnhdFFSwv/wAHxTqN7Bh1AAAAHwGeNnRCvwAHLlab4SlT//iD8+ln/+IErFZ/8xrartUAAAAQAZ44akK/AArNkQm4z69WeAAAABNBmj1JqEFsmUwId//+qZYAAJWBAAAADEGeW0UVLC//AACygAAAAA8Bnnp0Qr8ACxWjujtvhkcAAAAPAZ58akK/AAsSjRBajzBHAAAAE0GaYUmoQWyZTAh3//6plgAAlYAAAAAMQZ6fRRUsL/8AALKAAAAADwGevnRCvwALFaO6O2+GRwAAAA8BnqBqQr8ACxKNEFqPMEcAAAASQZqlSahBbJlMCG///qeEAAEnAAAADEGew0UVLC//AACygAAAAA8BnuJ0Qr8ACxWjujtvhkcAAAAPAZ7kakK/AAsSjRBajzBHAAAAEkGa6UmoQWyZTAhn//6eEAAEfQAAAAxBnwdFFSwv/wAAsoEAAAAPAZ8mdEK/AAsVo7o7b4ZHAAAADwGfKGpCvwALEo0QWo8wRwAAABlBmypJqEFsmUwIZ//+nhAANKvuNC6b7rqdAAAAIkGbTEnhClJlMFFSwz/+nhAAfL2R1eZZZ8+22Qx9YJ7tzLAAAAAQAZ9rakK/ABpnajlf24gRwAAAABhBm21J4Q6JlMCGf/6eEADDyGOfw5zfWpUAAAAYQZuOSeEPJlMCGf/+nhAAyK+40Lpvut5dAAAAH0GbsEnhDyZTBRE8M//+nhABPa9zXHP0fcHZf3829mEAAAAPAZ/PakK/AEF2eW4bNqcrAAAAGEGb0UnhDyZTAhn//p4QAeUpxz+HOb6zQQAAABhBm/JJ4Q8mUwIZ//6eEAL3wY5/DnN9ZZ8AAAAYQZoTSeEPJlMCGf/+nhAEkOEc/hzm+soOAAAAGEGaNEnhDyZTAhn//p4QCIfEc/U39+5TugAAABlBmlVJ4Q8mUwIZ//6eEAiHxHLvxd8v9NmBAAAAGEGadknhDyZTAhn//p4QCC+c2dboGDeK2AAAABhBmpdJ4Q8mUwIb//6nhAIL6OaCtZkc6dUAAAAeQZq5SeEPJlMFETwz//6eEAdvv7+WXWA91xH1jGUlAAAADwGe2GpCvwFjbbpRpDxJvwAAABhBmtpJ4Q8mUwIZ//6eEAQX5zfbIY+sIZ8AAAAYQZr7SeEPJlMCG//+p4QAsXupx/h9W20bAAAAG0GbHEnhDyZTAhv//qeEAKz7wwE169mfBFdlQQAAABtBmz1J4Q8mUwId//6plgBVPlJA4f53SFMIkPEAAAAbQZtBSeEPJlMCHf/+qZYAVwXIADDpvHn8DRWAAAAAEEGff0URPC//AGcEUg5sY2AAAAAPAZ+edEK/AIr6TuDZLxo3AAAADwGfgGpCvwCO5o3qsAKpIAAAABNBm4VJqEFomUwId//+qZYAAJWBAAAADEGfo0URLC//AACygAAAAA8Bn8J0Qr8AiSpHEdl2VVMAAAAPAZ/EakK/AIkqRus9Weo/AAAAEkGbyUmoQWyZTAhv//6nhAABJwAAAAxBn+dFFSwv/wAAsoEAAAAPAZ4GdEK/AI7X0M9sAqkgAAAADwGeCGpCvwCJKkbrPVnqPgAAABJBmg1JqEFsmUwIb//+p4QAAScAAAAMQZ4rRRUsL/8AALKAAAAADwGeSnRCvwCO19DPbAKpIAAAAA8BnkxqQr8AiSpG6z1Z6j8AAAAZQZpOSahBbJlMCG///qeEAKz7qcf4fVttIwAAAB5BmnBJ4QpSZTBRUsN//qeEAP377Mf4muNUQdl5YYsAAAAQAZ6PakK/ANKCxr3mlZtNwAAAABtBmpFJ4Q6JlMCHf/6plgB9fiEA/vC1BP7AG3AAAAAcQZq1SeEPJlMCHf/+qZYAgCgn5a931eHg9p2FTQAAABFBntNFETwv/wCa6CQHUFN20AAAAA8BnvJ0Qr8AyKSiFMEWpIAAAAAQAZ70akK/ANK6p5LmfJKvgQAAABNBmvlJqEFomUwId//+qZYAAJWAAAAADEGfF0URLC//AACygQAAABABnzZ0Qr8A0GonPcJFVpuBAAAAEAGfOGpCvwDQaicgZG0U/IAAAAATQZs9SahBbJlMCHf//qmWAACVgQAAAAxBn1tFFSwv/wAAsoAAAAAQAZ96dEK/ANBqJz3CRVabgQAAABABn3xqQr8A0GonIGRtFPyBAAAAE0GbYUmoQWyZTAh3//6plgAAlYAAAAAMQZ+fRRUsL/8AALKAAAAAEAGfvnRCvwDQaic9wkVWm4EAAAAQAZ+gakK/ANBqJyBkbRT8gAAAABNBm6VJqEFsmUwId//+qZYAAJWBAAAADEGfw0UVLC//AACygAAAABABn+J0Qr8A0GonPcJFVpuBAAAAEAGf5GpCvwDQaicgZG0U/IEAAAATQZvpSahBbJlMCHf//qmWAACVgQAAAAxBngdFFSwv/wAAsoEAAAAQAZ4mdEK/ANBqJz3CRVabgAAAABABnihqQr8A0GonIGRtFPyAAAAAE0GaLUmoQWyZTAh3//6plgAAlYEAAAAMQZ5LRRUsL/8AALKAAAAAEAGeanRCvwDQaic9wkVWm4AAAAAQAZ5sakK/ANBqJyBkbRT8gQAAABJBmnFJqEFsmUwIb//+p4QAAScAAAAMQZ6PRRUsL/8AALKBAAAAEAGernRCvwDQaic9wkVWm4AAAAAQAZ6wakK/ANBqJyBkbRT8gAAAABpBmrRJqEFsmUwIb//+p4QA/fvsx/h9W2zBgQAAAA9BntJFFSwr/wDSkaBrTcAAAAANAZ7zakK/ANLYkW9abgAAABxBmvZJqEFsmUwUTDf//qeEAPh77PuuJit0WtAxAAAAEAGfFWpCvwDNkyTTfSQcU3AAAAAlQZsaSeEKUmUwIb/+p4QAsXw5+BTYHTvwKZbOz4FClPs2XexpuQAAABVBnzhFNEwv/wBplaXror4/drFXM+EAAAAQAZ9XdEK/AIa7Unlfkps4EAAAAA8Bn1lqQr8AjuxHkwPXtx8AAAAZQZtbSahBaJlMCG///qeEALTitIIRP8ttEwAAACBBm39J4QpSZTAhn/6eEARQQ5VuC87X1999+L/Jfax/wQAAABZBn51FNEwv/wCs0CCebEN3TOV4J+LBAAAAEAGfvHRCvwCSu1J5X5KbNlAAAAAQAZ++akK/AOezwLr+3D6BwAAAABlBm6BJqEFomUwIZ//+nhAHsErHCf/37sPnAAAAGEGbwUnhClJlMCG//qeEAgvo5oK1mRzp1QAAAB5Bm+NJ4Q6JlMFNEw3//qeEAfHsx9T/5X1mqa3OZZcAAAAQAZ4CakK/AWNr5zrQwvDlQAAAABhBmgRJ4Q8mUwIb//6nhAEN+OmP8Pq22XEAAAAZQZolSeEPJlMCHf/+qZYAhP0c0s6Op5FLwQAAABpBmklJ4Q8mUwIb//6nhAD9++z7rggW6LWfcQAAABBBnmdFETwv/wCa5+5wsoD5AAAADwGehnRCvwDSpKIUwRabgAAAABABnohqQr8A0pMk030kHFLwAAAAGUGajEmoQWiZTAhv//6nhACwYrSCET/LbRsAAAAPQZ6qRREsK/8Ajsm4a3HAAAAADQGey2pCvwCPBpFvW44AAAATQZrOSahBbJlMFEw3//6nhAABJwAAAA8Bnu1qQr8AjSpG6z1Z6i8AAAASQZrwSeEKUmUwUsN//qeEAAEnAAAADwGfD2pCvwCNKkbrPVnqLgAAABJBmxJJ4Q6JlMFEw3/+p4QAAScAAAAPAZ8xakK/AI0qRus9WeovAAAAEUGbNknhDyZTAhv//qeEAAEnAAAAFEGfVEURPC//AGh3C818cfRZSgRYAAAAEAGfc3RCvwCOurRklv9bj4EAAAAPAZ91akK/AI7sR5MD17cfAAAAEkGbeEmoQWiZTBTw3/6nhAABJwAAAA8Bn5dqQr8AjwaB5MEW44EAAAASQZuaSeEKUmUwUsN//qeEAAEnAAAADwGfuWpCvwCNKkbrPVnqLwAAABJBm7xJ4Q6JlMFEw3/+p4QAAScAAAAPAZ/bakK/AI0qRus9WeovAAAAEkGb3knhDyZTBTw3//6nhAABJwAAAA8Bn/1qQr8AjSpG6z1Z6i4AAAASQZvgSeEPJlMFPDf//qeEAAEnAAAADwGeH2pCvwCNKkbrPVnqLwAAABJBmgJJ4Q8mUwU8N//+p4QAAScAAAAPAZ4hakK/AI0qRus9WeovAAAAEkGaJEnhDyZTBTwz//6eEAAEfAAAAA8BnkNqQr8AjSpG6z1Z6i8AAAAYQZpFSeEPJlMCGf/+nhACs+6bGXJsq20lAAAAGkGaaUvhCEPJEYIKAfyAf2HgCFf//jhAABFxAAAAI0Geh0URPC//AgHc6kvbMwq5gOgatahcCUAZaJPC3zKTNJwxAAAADwGepnRCvwCJKkcR2XZVUwAAACUBnqhqQr8Cr2PtQcTdqsNJJuWqhgcuy/UGrWNIj8Z/yb9cWeUwAAAL+G1vb3YAAABsbXZoZAAAAAAAAAAAAAAAAAAAA+gAAB+QAAEAAAEAAAAAAAAAAAAAAAABAAAAAAAAAAAAAAAAAAAAAQAAAAAAAAAAAAAAAAAAQAAAAAAAAAAAAAAAAAAAAAAAAAAAAAAAAAAAAAAAAAIAAAsidHJhawAAAFx0a2hkAAAAAwAAAAAAAAAAAAAAAQAAAAAAAB+QAAAAAAAAAAAAAAAAAAAAAAABAAAAAAAAAAAAAAAAAAAAAQAAAAAAAAAAAAAAAAAAQAAAAAEQAAABEAAAAAAAJGVkdHMAAAAcZWxzdAAAAAAAAAABAAAfkAAABAAAAQAAAAAKmm1kaWEAAAAgbWRoZAAAAAAAAAAAAAAAAAAAMgAAAZQAVcQAAAAAAC1oZGxyAAAAAAAAAAB2aWRlAAAAAAAAAAAAAAAAVmlkZW9IYW5kbGVyAAAACkVtaW5mAAAAFHZtaGQAAAABAAAAAAAAAAAAAAAkZGluZgAAABxkcmVmAAAAAAAAAAEAAAAMdXJsIAAAAAEAAAoFc3RibAAAAJVzdHNkAAAAAAAAAAEAAACFYXZjMQAAAAAAAAABAAAAAAAAAAAAAAAAAAAAAAEQARAASAAAAEgAAAAAAAAAAQAAAAAAAAAAAAAAAAAAAAAAAAAAAAAAAAAAAAAAAAAAABj//wAAAC9hdmNDAfQADf/hABdn9AANkZsoIhHQgAAAAwCAAAAZB4oUywEABWjr48RIAAAAGHN0dHMAAAAAAAAAAQAAAMoAAAIAAAAAFHN0c3MAAAAAAAAAAQAAAAEAAAXQY3R0cwAAAAAAAAC4AAAAAgAABAAAAAABAAAIAAAAAAIAAAIAAAAAAQAABgAAAAABAAACAAAAAAIAAAQAAAAAAQAABgAAAAABAAACAAAAAAEAAAoAAAAAAQAABAAAAAABAAAAAAAAAAEAAAIAAAAAAQAACgAAAAABAAAEAAAAAAEAAAAAAAAAAQAAAgAAAAABAAAKAAAAAAEAAAQAAAAAAQAAAAAAAAABAAACAAAAAAEAAAoAAAAAAQAABAAAAAABAAAAAAAAAAEAAAIAAAAAAQAACgAAAAABAAAEAAAAAAEAAAAAAAAAAQAAAgAAAAACAAAEAAAAAAEAAAYAAAAAAQAAAgAAAAABAAAEAAAAAAEAAAYAAAAAAQAAAgAAAAABAAAKAAAAAAEAAAQAAAAAAQAAAAAAAAABAAACAAAAAAEAAAoAAAAAAQAABAAAAAABAAAAAAAAAAEAAAIAAAAAAQAACgAAAAABAAAEAAAAAAEAAAAAAAAAAQAAAgAAAAABAAAKAAAAAAEAAAQAAAAAAQAAAAAAAAABAAACAAAAAAEAAAoAAAAAAQAABAAAAAABAAAAAAAAAAEAAAIAAAAAAQAACgAAAAABAAAEAAAAAAEAAAAAAAAAAQAAAgAAAAABAAAKAAAAAAEAAAQAAAAAAQAAAAAAAAABAAACAAAAAAEAAAoAAAAAAQAABAAAAAABAAAAAAAAAAEAAAIAAAAAAQAACgAAAAABAAAEAAAAAAEAAAAAAAAAAQAAAgAAAAABAAAEAAAAAAEAAAYAAAAAAQAAAgAAAAACAAAEAAAAAAEAAAYAAAAAAQAAAgAAAAAHAAAEAAAAAAEAAAYAAAAAAQAAAgAAAAAEAAAEAAAAAAEAAAoAAAAAAQAABAAAAAABAAAAAAAAAAEAAAIAAAAAAQAACgAAAAABAAAEAAAAAAEAAAAAAAAAAQAAAgAAAAABAAAKAAAAAAEAAAQAAAAAAQAAAAAAAAABAAACAAAAAAEAAAoAAAAAAQAABAAAAAABAAAAAAAAAAEAAAIAAAAAAQAABAAAAAABAAAGAAAAAAEAAAIAAAAAAQAABAAAAAABAAAKAAAAAAEAAAQAAAAAAQAAAAAAAAABAAACAAAAAAEAAAoAAAAAAQAABAAAAAABAAAAAAAAAAEAAAIAAAAAAQAACgAAAAABAAAEAAAAAAEAAAAAAAAAAQAAAgAAAAABAAAKAAAAAAEAAAQAAAAAAQAAAAAAAAABAAACAAAAAAEAAAoAAAAAAQAABAAAAAABAAAAAAAAAAEAAAIAAAAAAQAACgAAAAABAAAEAAAAAAEAAAAAAAAAAQAAAgAAAAABAAAKAAAAAAEAAAQAAAAAAQAAAAAAAAABAAACAAAAAAEAAAoAAAAAAQAABAAAAAABAAAAAAAAAAEAAAIAAAAAAQAACAAAAAACAAACAAAAAAEAAAYAAAAAAQAAAgAAAAABAAAKAAAAAAEAAAQAAAAAAQAAAAAAAAABAAACAAAAAAEAAAQAAAAAAQAACgAAAAABAAAEAAAAAAEAAAAAAAAAAQAAAgAAAAACAAAEAAAAAAEAAAYAAAAAAQAAAgAAAAACAAAEAAAAAAEAAAoAAAAAAQAABAAAAAABAAAAAAAAAAEAAAIAAAAAAQAACAAAAAACAAACAAAAAAEAAAYAAAAAAQAAAgAAAAABAAAGAAAAAAEAAAIAAAAAAQAABgAAAAABAAACAAAAAAEAAAoAAAAAAQAABAAAAAABAAAAAAAAAAEAAAIAAAAAAQAABgAAAAABAAACAAAAAAEAAAYAAAAAAQAAAgAAAAABAAAGAAAAAAEAAAIAAAAAAQAABgAAAAABAAACAAAAAAEAAAYAAAAAAQAAAgAAAAABAAAGAAAAAAEAAAIAAAAAAQAABgAAAAABAAACAAAAAAEAAAQAAAAAAQAACgAAAAABAAAEAAAAAAEAAAAAAAAAAQAAAgAAAAAcc3RzYwAAAAAAAAABAAAAAQAAAMoAAAABAAADPHN0c3oAAAAAAAAAAAAAAMoAAAWXAAAAGAAAACAAAAAWAAAAFAAAACEAAAATAAAAHAAAAB8AAAAmAAAAFAAAABYAAAAQAAAAFAAAABQAAAAXAAAAEAAAABQAAAAUAAAAFwAAABAAAAAUAAAAFAAAABYAAAAQAAAAFAAAABQAAAAWAAAAEAAAABQAAAAUAAAAHgAAABwAAAAhAAAAFAAAAB0AAAAgAAAAFAAAABYAAAAQAAAAEwAAABMAAAAXAAAAEAAAABMAAAATAAAAFwAAABAAAAATAAAAEwAAACAAAAAUAAAAEwAAABQAAAAdAAAAFAAAACMAAAAUAAAAFwAAABAAAAATAAAAEwAAABcAAAAQAAAAEwAAABMAAAAWAAAAEAAAABMAAAATAAAAFgAAABAAAAATAAAAEwAAAB0AAAAmAAAAFAAAABwAAAAcAAAAIwAAABMAAAAcAAAAHAAAABwAAAAcAAAAHQAAABwAAAAcAAAAIgAAABMAAAAcAAAAHAAAAB8AAAAfAAAAHwAAABQAAAATAAAAEwAAABcAAAAQAAAAEwAAABMAAAAWAAAAEAAAABMAAAATAAAAFgAAABAAAAATAAAAEwAAAB0AAAAiAAAAFAAAAB8AAAAgAAAAFQAAABMAAAAUAAAAFwAAABAAAAAUAAAAFAAAABcAAAAQAAAAFAAAABQAAAAXAAAAEAAAABQAAAAUAAAAFwAAABAAAAAUAAAAFAAAABcAAAAQAAAAFAAAABQAAAAXAAAAEAAAABQAAAAUAAAAFgAAABAAAAAUAAAAFAAAAB4AAAATAAAAEQAAACAAAAAUAAAAKQAAABkAAAAUAAAAEwAAAB0AAAAkAAAAGgAAABQAAAAUAAAAHQAAABwAAAAiAAAAFAAAABwAAAAdAAAAHgAAABQAAAATAAAAFAAAAB0AAAATAAAAEQAAABcAAAATAAAAFgAAABMAAAAWAAAAEwAAABUAAAAYAAAAFAAAABMAAAAWAAAAEwAAABYAAAATAAAAFgAAABMAAAAWAAAAEwAAABYAAAATAAAAFgAAABMAAAAWAAAAEwAAABwAAAAeAAAAJwAAABMAAAApAAAAFHN0Y28AAAAAAAAAAQAAADAAAABidWR0YQAAAFptZXRhAAAAAAAAACFoZGxyAAAAAAAAAABtZGlyYXBwbAAAAAAAAAAAAAAAAC1pbHN0AAAAJal0b28AAAAdZGF0YQAAAAEAAAAATGF2ZjU4LjI5LjEwMA==\" type=\"video/mp4\" />\n",
       "             </video>"
      ],
      "text/plain": [
       "<IPython.core.display.HTML object>"
      ]
     },
     "execution_count": 31,
     "metadata": {},
     "output_type": "execute_result"
    }
   ],
   "source": [
    "HTML(display_videos('fc_test10.mp4'))"
   ]
  },
  {
   "cell_type": "markdown",
   "metadata": {},
   "source": [
    "> The local loss we introduced overcomes the issues related to the MSE one. In fact this is questionable since the MSE tends to make the network reproduce what it has done and penalizes bad moves (0 is better than negative rewards), but in our case, if we give a good exploration parameter we authorize the model to perform badly at first in order to get some cases to be able to predict future rewards. Once it has learned how to predict future rewards, it is thought to behave well but then would it get that bad rewards are worse than 0 ? This is questionable. In our case at least, it seems to work impressively well in very few epochs !!"
   ]
  },
  {
   "cell_type": "markdown",
   "metadata": {},
   "source": [
    "***\n",
    "The algorithm tends to not explore the map which can be an issue. We propose two ideas in order to encourage exploration:\n",
    "1. Incorporating a decreasing $\\epsilon$-greedy exploration. We use the method ```set_epsilon```\n",
    "2. Append via the environment a new state that describes if a cell has been visited or not\n",
    "---"
   ]
  },
  {
   "cell_type": "code",
   "execution_count": 32,
   "metadata": {},
   "outputs": [
    {
     "name": "stdout",
     "output_type": "stream",
     "text": [
      "Epoch 001/020 | Loss 0.0120 | Win/lose count 10.5/10.0 (0.5)\n",
      "Epoch 002/020 | Loss 0.0000 | Win/lose count 6.5/3.0 (3.5)\n",
      "Epoch 003/020 | Loss 0.0021 | Win/lose count 13.0/10.0 (3.0)\n",
      "Epoch 004/020 | Loss 0.0746 | Win/lose count 12.0/4.0 (8.0)\n",
      "Epoch 005/020 | Loss 0.0022 | Win/lose count 10.0/1.0 (9.0)\n",
      "Epoch 006/020 | Loss 0.0090 | Win/lose count 11.5/7.0 (4.5)\n",
      "Epoch 007/020 | Loss 0.0663 | Win/lose count 18.5/2.0 (16.5)\n",
      "Epoch 008/020 | Loss 0.0000 | Win/lose count 14.0/3.0 (11.0)\n",
      "Epoch 009/020 | Loss 0.1558 | Win/lose count 8.5/4.0 (4.5)\n",
      "Epoch 010/020 | Loss 0.1008 | Win/lose count 13.5/2.0 (11.5)\n",
      "Epoch 011/020 | Loss 0.1920 | Win/lose count 16.5/3.0 (13.5)\n",
      "Epoch 012/020 | Loss 0.1058 | Win/lose count 15.5/4.0 (11.5)\n",
      "Epoch 013/020 | Loss 0.0020 | Win/lose count 18.5/0 (18.5)\n",
      "Epoch 014/020 | Loss 0.1021 | Win/lose count 17.0/2.0 (15.0)\n",
      "Epoch 015/020 | Loss 0.0276 | Win/lose count 13.5/0 (13.5)\n",
      "Epoch 016/020 | Loss 0.2595 | Win/lose count 22.5/0 (22.5)\n",
      "Epoch 017/020 | Loss 0.0306 | Win/lose count 23.5/2.0 (21.5)\n",
      "Epoch 018/020 | Loss 0.0397 | Win/lose count 22.5/4.0 (18.5)\n",
      "Epoch 019/020 | Loss 0.0544 | Win/lose count 13.5/2.0 (11.5)\n",
      "Epoch 020/020 | Loss 0.1082 | Win/lose count 18.5/1.0 (17.5)\n"
     ]
    },
    {
     "data": {
      "text/html": [
       "<video alt=\"test\" controls>\n",
       "                <source src=\"data:video/mp4;base64,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\" type=\"video/mp4\" />\n",
       "             </video>"
      ],
      "text/plain": [
       "<IPython.core.display.HTML object>"
      ]
     },
     "execution_count": 32,
     "metadata": {},
     "output_type": "execute_result"
    }
   ],
   "source": [
    "# Training\n",
    "K.clear_session()\n",
    "env_eplore = Environment(grid_size=size, max_time=T, temperature=0.3, immob_penalty=0.1)\n",
    "agent = DQN_CNN(size, lr=.001, epsilon=0.3, memory_size=2000, batch_size=32, n_state=3)\n",
    "train(agent, env, epoch=20, eps_decay=0.5, eps_step=3, prefix='cnn_train')\n",
    "HTML(display_videos('cnn_train_explore_20.mp4'))"
   ]
  },
  {
   "cell_type": "code",
   "execution_count": 33,
   "metadata": {},
   "outputs": [
    {
     "name": "stdout",
     "output_type": "stream",
     "text": [
      "Win/lose count 8.5/0. Average score (8.5)\n",
      "Win/lose count 23.5/2.0. Average score (15.0)\n",
      "Win/lose count 24.0/2.0. Average score (17.333333333333332)\n",
      "Win/lose count 4.0/2.0. Average score (13.5)\n",
      "Win/lose count 8.5/2.0. Average score (12.1)\n",
      "Win/lose count 9.0/0. Average score (11.583333333333334)\n",
      "Win/lose count 8.0/1.0. Average score (10.928571428571429)\n",
      "Win/lose count 12.5/1.0. Average score (11.0)\n",
      "Win/lose count 0.5/0. Average score (9.833333333333334)\n",
      "Win/lose count 17.0/1.0. Average score (10.45)\n",
      "Final score: 10.45\n"
     ]
    },
    {
     "data": {
      "text/html": [
       "<video alt=\"test\" controls>\n",
       "                <source src=\"data:video/mp4;base64,AAAAIGZ0eXBpc29tAAACAGlzb21pc28yYXZjMW1wNDEAAAAIZnJlZQAAF1NtZGF0AAACnwYF//+b3EXpvebZSLeWLNgg2SPu73gyNjQgLSBjb3JlIDE1MiAtIEguMjY0L01QRUctNCBBVkMgY29kZWMgLSBDb3B5bGVmdCAyMDAzLTIwMTcgLSBodHRwOi8vd3d3LnZpZGVvbGFuLm9yZy94MjY0Lmh0bWwgLSBvcHRpb25zOiBjYWJhYz0xIHJlZj0zIGRlYmxvY2s9MTowOjAgYW5hbHlzZT0weDE6MHgxMTEgbWU9aGV4IHN1Ym1lPTcgcHN5PTEgcHN5X3JkPTEuMDA6MC4wMCBtaXhlZF9yZWY9MSBtZV9yYW5nZT0xNiBjaHJvbWFfbWU9MSB0cmVsbGlzPTEgOHg4ZGN0PTAgY3FtPTAgZGVhZHpvbmU9MjEsMTEgZmFzdF9wc2tpcD0xIGNocm9tYV9xcF9vZmZzZXQ9NCB0aHJlYWRzPTYgbG9va2FoZWFkX3RocmVhZHM9MSBzbGljZWRfdGhyZWFkcz0wIG5yPTAgZGVjaW1hdGU9MSBpbnRlcmxhY2VkPTAgYmx1cmF5X2NvbXBhdD0wIGNvbnN0cmFpbmVkX2ludHJhPTAgYmZyYW1lcz0zIGJfcHlyYW1pZD0yIGJfYWRhcHQ9MSBiX2JpYXM9MCBkaXJlY3Q9MSB3ZWlnaHRiPTEgb3Blbl9nb3A9MCB3ZWlnaHRwPTIga2V5aW50PTI1MCBrZXlpbnRfbWluPTI1IHNjZW5lY3V0PTQwIGludHJhX3JlZnJlc2g9MCByY19sb29rYWhlYWQ9NDAgcmM9Y3JmIG1idHJlZT0xIGNyZj0yMy4wIHFjb21wPTAuNjAgcXBtaW49MCBxcG1heD02OSBxcHN0ZXA9NCBpcF9yYXRpbz0xLjQwIGFxPTE6MS4wMACAAAADXGWIhAA3//72h/gU2VgT/lm//Q1/3I/bj6z9cWMhBN9aryHowBkvtR/m/6xRbOmelAf34AiUAHNuGcKSKGf/AplscL4FCvxxPlMKM5U/yg2yR0DDyjthfZY2aYxPW3yE+JOjrB7dwUkkTZD2L4QJYBKdMiXlV5h1lOfvEqpus84qBNUDI+YXGmytFG+gEhuQKYuW9yaokYrtsHXVjRS7G/+AF4kCdv2QYOqqsuQad4A2hqpshBKsIzqjHpjvemixsp5KOIjfSTdXTemec63KRHxE2qviuBuaMsvQ+qMH2XDRRlVQwMcivIdtcUzN3RP6//r/pw8mgL6z8wN2jM5THeCg4gVckbIez29cpY8Scnr7ol5/YrncIFUClKgkp0lsejRtKdh4Rje4j/fgpgcx+3zkGu2SnvMwybRyyEniEHPUV/6Vf4cVsRpFDDP0o8+8lC9iOfjEEwWOIL8baHegAnj9GYu0hbmO8b4tjkQAukNMgzkGq1kVeXsywM5sUOW79rE8wI2x4dmA/jPAHBAOsbEa3UPBlmnllamLeQ+JTjI6tBHgY65LykEoOoesvPz+Hmr3j4GeKGq+286AIepsMmLlSTdo9+/Dcafsl+R+O+D64ig1QLn5evu0BRNAtLpe2e0IzkpWA9WkWOLw4VI2m0WELR+Q4WFTJFlE/2JEPH1e6hQHd7ewEn2DcPnEiyMyphTlVdX0GCe08VCI05y5mT0F/3Dk7os4k9WZueQ8kF2VptKAubRgzFrUWG65+cgpAfYwgPNIVCezWUYdOb+dCOgZJjbR8UdvUDmAFriSyqZqUMPg9rpwFFPEjYlYAQcuQDEg7xevwNpVWVEV2bQRiq97HRmIb6/Sl3uSxCnHKvRAAeKFMRyX9z5uRfRByrCCDs/ae9ZFDyGRT9zM/wB3fx9JhCPe5RnDdKem989bP5WA9fXQ4TiJmSEcyv26r2hpsf8xdozPqnFIYYCYFGKZea8rPMYtvJs3gESBzO/XNHozH6aQ+ToYRdkDx0jb9DGHatLYDQBO/lXGvxCGr35bOomYfi5Q/QRNN4DUC3YD5ZDnzBNJeCHscfNMjpNMDTdzIb3eBjWgvio61ydABQd29KIjq32FGCehzQJtZZBi1Eyq1LeUFVbgDMOgAIyBAAAAE0GaIWxDf/6nhAAMn7B7H8+CLjYAAAAcQZpDPCGTKYQ3//6nhAAMT77Pe+O5lZqmtzyPgQAAABABnmJqQr8ACfNfOdaGF/NAAAAAG0GaZknhDyZTAhv//qeEAAef2D+bS6jjQkdO4QAAABJBnoRFETwr/wAGSI7c6yfKVIEAAAAQAZ6lakK/AAYgmSab6SD2kQAAAB1BmqhJqEFomUwU8N/+p4QABSPdT7vNzk8DwbpFbwAAABABnsdqQr8ABBc0bzTFW5tAAAAAGUGayUnhClJlMCG//qeEAANe6tIIRP8ulYAAAAAqQZrtSeEOiZTAhn/+nhAAFR9032z4AoXAprpOf4FKI7/ApmuUu/uD3QLdAAAAFUGfC0URPC//AAM365Yzbib/3qbRPAAAAA8Bnyp0Qr8ABFfSdwbJevYAAAAQAZ8sakK/AAR3NG80xVuUwQAAABlBmy5JqEFomUwIZ//+nhAADh+uNvem+7FzAAAAGUGbT0nhClJlMCG//qeEAAO0Dwp1nT7sVoEAAAAZQZtwSeEOiZTAhv/+p4QAA8oPCnWdPuxRgAAAAB9Bm5NJ4Q8mUwIb//6nhAAJd8OfMssTI7jXfPNRrqSXAAAAE0GfsUURPCv/AAeZns+S8Z+SaoEAAAAQAZ/SakK/AAeZngXX9uIwYAAAABxBm9RJqEFomUwIb//+p4QADnnGf6rfVQIT+8XgAAAAIEGb9knhClJlMFESw3/+p4QAFhxWzE/1dQPfqoEJ/OLBAAAAEAGeFWpCvwAR3aITcZ9epWgAAAApQZoZSeEOiZTAhv/+p4QAM76w3Msrxhn4FMtnZ8ChSVq2Pnmy/tkb5HcAAAATQZ43RRU8K/8AKhY83TmtsJGNzQAAABABnlhqQr8AKhY8cr+3D+3AAAAAHEGaWkmoQWiZTAhv//6nhAAzbrZAlgEtU4P98qcAAAAiQZp+SeEKUmUwIZ/+nhAC1+6b3DdBzLLPn2z1h6oWhRLHGAAAABZBnpxFNEwv/wBulTQrgB8xFfP+AZ5hAAAAEAGeu3RCvwBiJLXgdMpu2IEAAAAQAZ69akK/AJa80TImlZtswAAAAB1BmqBJqEFomUwU8M/+nhACxe6b3TDziXdcR9UQkgAAABABnt9qQr8AksnznWhheLdBAAAAGEGawUnhClJlMCGf/p4QAbv19/IkR9YR6QAAABhBmuJJ4Q6JlMCGf/6eEAEe+If2yGPrCYEAAAAYQZsDSeEPJlMCGf/+nhAAvq+40Lpvut6cAAAAGEGbJEnhDyZTAhn//p4QAL/6+/kSI+sKPwAAABlBm0VJ4Q8mUwIb//6nhAAfsHhTrOn3XB6BAAAAHUGbZ0nhDyZTBRE8M//+nhAAfL19/Qro2TFsFVGxAAAAEAGfhmpCvwAaYltOvAFAMoEAAAAYQZuISeEPJlMCG//+p4QADY+wevZnwRcBAAAAGUGbqUnhDyZTAhv//qeEAA0/vsx/h9W3qoAAAAAeQZvLSeEPJlMFETw3//6nhAAT/3U4/xNcaog+bw5nAAAAEAGf6mpCvwAP3zhr3mlZ7mAAAAAnQZvuSeEPJlMCG//+p4QALZ7xlzmWVz3j8ClS2fgUzsDFC+sXszqAAAAAE0GeDEURPCv/ACS7RDLljlmypoEAAAAQAZ4takK/ACS7RCbjPr0/KQAAABlBmi9JqEFomUwId//+qZYAFuCWoyAvyK9BAAAAH0GaUknhClJlMCHf/qmWACIIsN0JKoMf+yX65kGsSzAAAAASQZ5wRTRMK/8AN063lGrwkqSmAAAAEAGekWpCvwA3TqnkwPXuO4EAAAAiQZqWSahBaJlMCHf//qmWADVe0vC1CyEm6FrS/UEtTzUmwAAAABZBnrRFESwv/wA/h9+mcUkGpF453ceAAAAADwGe03RCvwBYsydwbJeNvwAAAA8BntVqQr8AWJrKZtmRrfMAAAATQZraSahBbJlMCHf//qmWAACVgQAAAAxBnvhFFSwv/wAAsoEAAAAQAZ8XdEK/AFZtHeYJY2izsAAAABABnxlqQr8AVlRomXQdPLwJAAAAE0GbHkmoQWyZTAh3//6plgAAlYAAAAAMQZ88RRUsL/8AALKBAAAAEAGfW3RCvwBWbR3mCWNos7EAAAAQAZ9dakK/AFZUaJl0HTy8CAAAABNBm0JJqEFsmUwId//+qZYAAJWAAAAADEGfYEUVLC//AACygQAAABABn590Qr8AVm0d5gljaLOwAAAAEAGfgWpCvwBWVGiZdB08vAkAAAATQZuGSahBbJlMCHf//qmWAACVgAAAAAxBn6RFFSwv/wAAsoEAAAAQAZ/DdEK/AFZtHeYJY2izsQAAABABn8VqQr8AVlRomXQdPLwJAAAAE0GbykmoQWyZTAh3//6plgAAlYEAAAAMQZ/oRRUsL/8AALKAAAAAEAGeB3RCvwBWbR3mCWNos7AAAAAQAZ4JakK/AFZUaJl0HTy8CQAAABNBmg5JqEFsmUwId//+qZYAAJWAAAAADEGeLEUVLC//AACygAAAABABnkt0Qr8AVm0d5gljaLOxAAAAEAGeTWpCvwBWVGiZdB08vAkAAAATQZpSSahBbJlMCHf//qmWAACVgQAAAAxBnnBFFSwv/wAAsoAAAAAQAZ6PdEK/AFZtHeYJY2izsAAAABABnpFqQr8AVlRomXQdPLwJAAAAE0GalkmoQWyZTAh3//6plgAAlYAAAAAMQZ60RRUsL/8AALKAAAAAEAGe03RCvwBWbR3mCWNos7EAAAAQAZ7VakK/AFZUaJl0HTy8CAAAABNBmtpJqEFsmUwId//+qZYAAJWBAAAADEGe+EUVLC//AACygQAAABABnxd0Qr8AVm0d5gljaLOwAAAAEAGfGWpCvwBWVGiZdB08vAkAAAATQZseSahBbJlMCHf//qmWAACVgAAAAAxBnzxFFSwv/wAAsoEAAAAQAZ9bdEK/AFZtHeYJY2izsQAAABABn11qQr8AVlRomXQdPLwIAAAAE0GbQkmoQWyZTAh3//6plgAAlYAAAAAMQZ9gRRUsL/8AALKBAAAAEAGfn3RCvwBWbR3mCWNos7AAAAAQAZ+BakK/AFZUaJl0HTy8CQAAABNBm4ZJqEFsmUwId//+qZYAAJWAAAAADEGfpEUVLC//AACygQAAABABn8N0Qr8AVm0d5gljaLOxAAAAEAGfxWpCvwBWVGiZdB08vAkAAAATQZvKSahBbJlMCHf//qmWAACVgQAAAAxBn+hFFSwv/wAAsoAAAAAQAZ4HdEK/AFZtHeYJY2izsAAAABABnglqQr8AVlRomXQdPLwJAAAAE0GaDkmoQWyZTAh3//6plgAAlYAAAAAMQZ4sRRUsL/8AALKAAAAAEAGeS3RCvwBWbR3mCWNos7EAAAAQAZ5NakK/AFZUaJl0HTy8CQAAABNBmlJJqEFsmUwId//+qZYAAJWBAAAADEGecEUVLC//AACygAAAABABno90Qr8AVm0d5gljaLOwAAAAEAGekWpCvwBWVGiZdB08vAkAAAATQZqWSahBbJlMCHf//qmWAACVgAAAAAxBnrRFFSwv/wAAsoAAAAAQAZ7TdEK/AFZtHeYJY2izsQAAABABntVqQr8AVlRomXQdPLwIAAAAE0Ga2kmoQWyZTAh3//6plgAAlYEAAAAMQZ74RRUsL/8AALKBAAAAEAGfF3RCvwBWbR3mCWNos7AAAAAQAZ8ZakK/AFZUaJl0HTy8CQAAABNBmx5JqEFsmUwId//+qZYAAJWAAAAADEGfPEUVLC//AACygQAAABABn1t0Qr8AVm0d5gljaLOxAAAAEAGfXWpCvwBWVGiZdB08vAgAAAATQZtCSahBbJlMCHf//qmWAACVgAAAAAxBn2BFFSwv/wAAsoEAAAAQAZ+fdEK/AFZtHeYJY2izsAAAABABn4FqQr8AVlRomXQdPLwJAAAAE0GbhkmoQWyZTAh3//6plgAAlYAAAAAMQZ+kRRUsL/8AALKBAAAAEAGfw3RCvwBWbR3mCWNos7EAAAAQAZ/FakK/AFZUaJl0HTy8CQAAABNBm8pJqEFsmUwId//+qZYAAJWBAAAADEGf6EUVLC//AACygAAAABABngd0Qr8AVm0d5gljaLOwAAAAEAGeCWpCvwBWVGiZdB08vAkAAAATQZoOSahBbJlMCHf//qmWAACVgAAAAAxBnixFFSwv/wAAsoAAAAAQAZ5LdEK/AFZtHeYJY2izsQAAABABnk1qQr8AVlRomXQdPLwJAAAAE0GaUkmoQWyZTAh3//6plgAAlYEAAAAMQZ5wRRUsL/8AALKAAAAAEAGej3RCvwBWbR3mCWNos7AAAAAQAZ6RakK/AFZUaJl0HTy8CQAAABNBmpZJqEFsmUwId//+qZYAAJWAAAAADEGetEUVLC//AACygAAAABABntN0Qr8AVm0d5gljaLOxAAAAEAGe1WpCvwBWVGiZdB08vAgAAAATQZraSahBbJlMCHf//qmWAACVgQAAAAxBnvhFFSwv/wAAsoEAAAAQAZ8XdEK/AFZtHeYJY2izsAAAABABnxlqQr8AVlRomXQdPLwJAAAAE0GbHkmoQWyZTAh3//6plgAAlYAAAAAMQZ88RRUsL/8AALKBAAAAEAGfW3RCvwBWbR3mCWNos7EAAAAQAZ9dakK/AFZUaJl0HTy8CAAAABNBm0JJqEFsmUwId//+qZYAAJWAAAAADEGfYEUVLC//AACygQAAABABn590Qr8AVm0d5gljaLOwAAAAEAGfgWpCvwBWVGiZdB08vAkAAAATQZuGSahBbJlMCHf//qmWAACVgAAAAAxBn6RFFSwv/wAAsoEAAAAQAZ/DdEK/AFZtHeYJY2izsQAAABABn8VqQr8AVlRomXQdPLwJAAAAE0GbykmoQWyZTAh3//6plgAAlYEAAAAMQZ/oRRUsL/8AALKAAAAAEAGeB3RCvwBWbR3mCWNos7AAAAAQAZ4JakK/AFZUaJl0HTy8CQAAABNBmg5JqEFsmUwId//+qZYAAJWAAAAADEGeLEUVLC//AACygAAAABABnkt0Qr8AVm0d5gljaLOxAAAAEAGeTWpCvwBWVGiZdB08vAkAAAATQZpSSahBbJlMCHf//qmWAACVgQAAAAxBnnBFFSwv/wAAsoAAAAAQAZ6PdEK/AFZtHeYJY2izsAAAABABnpFqQr8AVlRomXQdPLwJAAAAE0GalkmoQWyZTAh3//6plgAAlYAAAAAMQZ60RRUsL/8AALKAAAAAEAGe03RCvwBWbR3mCWNos7EAAAAQAZ7VakK/AFZUaJl0HTy8CAAAABNBmtpJqEFsmUwId//+qZYAAJWBAAAADEGe+EUVLC//AACygQAAABABnxd0Qr8AVm0d5gljaLOwAAAAEAGfGWpCvwBWVGiZdB08vAkAAAATQZseSahBbJlMCHf//qmWAACVgAAAAAxBnzxFFSwv/wAAsoEAAAAQAZ9bdEK/AFZtHeYJY2izsQAAABABn11qQr8AVlRomXQdPLwIAAAAEkGbQkmoQWyZTAhv//6nhAABJwAAAAxBn2BFFSwv/wAAsoEAAAAQAZ+fdEK/AFZtHeYJY2izsAAAABABn4FqQr8AVlRomXQdPLwJAAAAEkGbhkmoQWyZTAhn//6eEAAEfAAAAAxBn6RFFSwv/wAAsoEAAAAQAZ/DdEK/AFZtHeYJY2izsQAAABABn8VqQr8AVlRomXQdPLwJAAAAGkGbyUuoQhBbJEYIKAfyAf2HgCFf/jhAABFxAAAAKEGf50UVLCv/Aq9j7UHE3arDSSblqoYHLLblnBsnA7DAdvViZ+DQxMwAAAAjAZ4IakK/Aq9j7UHE3arDSSblqoYHLLbmEUYRGFDF6huFy8AAAAwYbW9vdgAAAGxtdmhkAAAAAAAAAAAAAAAAAAAD6AAAH5AAAQAAAQAAAAAAAAAAAAAAAAEAAAAAAAAAAAAAAAAAAAABAAAAAAAAAAAAAAAAAABAAAAAAAAAAAAAAAAAAAAAAAAAAAAAAAAAAAAAAAAAAgAAC0J0cmFrAAAAXHRraGQAAAADAAAAAAAAAAAAAAABAAAAAAAAH5AAAAAAAAAAAAAAAAAAAAAAAAEAAAAAAAAAAAAAAAAAAAABAAAAAAAAAAAAAAAAAABAAAAAARAAAAEQAAAAAAAkZWR0cwAAABxlbHN0AAAAAAAAAAEAAB+QAAAEAAABAAAAAAq6bWRpYQAAACBtZGhkAAAAAAAAAAAAAAAAAAAyAAABlABVxAAAAAAALWhkbHIAAAAAAAAAAHZpZGUAAAAAAAAAAAAAAABWaWRlb0hhbmRsZXIAAAAKZW1pbmYAAAAUdm1oZAAAAAEAAAAAAAAAAAAAACRkaW5mAAAAHGRyZWYAAAAAAAAAAQAAAAx1cmwgAAAAAQAACiVzdGJsAAAAlXN0c2QAAAAAAAAAAQAAAIVhdmMxAAAAAAAAAAEAAAAAAAAAAAAAAAAAAAAAARABEABIAAAASAAAAAAAAAABAAAAAAAAAAAAAAAAAAAAAAAAAAAAAAAAAAAAAAAAAAAAGP//AAAAL2F2Y0MB9AAN/+EAF2f0AA2RmygiEdCAAAADAIAAABkHihTLAQAFaOvjxEgAAAAYc3R0cwAAAAAAAAABAAAAygAAAgAAAAAUc3RzcwAAAAAAAAABAAAAAQAABfBjdHRzAAAAAAAAALwAAAACAAAEAAAAAAEAAAYAAAAAAQAAAgAAAAABAAAIAAAAAAIAAAIAAAAAAQAABgAAAAABAAACAAAAAAEAAAQAAAAAAQAACgAAAAABAAAEAAAAAAEAAAAAAAAAAQAAAgAAAAADAAAEAAAAAAEAAAgAAAAAAgAAAgAAAAABAAAEAAAAAAEAAAYAAAAAAQAAAgAAAAABAAAIAAAAAAIAAAIAAAAAAQAABAAAAAABAAAKAAAAAAEAAAQAAAAAAQAAAAAAAAABAAACAAAAAAEAAAYAAAAAAQAAAgAAAAAFAAAEAAAAAAEAAAYAAAAAAQAAAgAAAAACAAAEAAAAAAEAAAYAAAAAAQAAAgAAAAABAAAIAAAAAAIAAAIAAAAAAQAABAAAAAABAAAIAAAAAAIAAAIAAAAAAQAACgAAAAABAAAEAAAAAAEAAAAAAAAAAQAAAgAAAAABAAAKAAAAAAEAAAQAAAAAAQAAAAAAAAABAAACAAAAAAEAAAoAAAAAAQAABAAAAAABAAAAAAAAAAEAAAIAAAAAAQAACgAAAAABAAAEAAAAAAEAAAAAAAAAAQAAAgAAAAABAAAKAAAAAAEAAAQAAAAAAQAAAAAAAAABAAACAAAAAAEAAAoAAAAAAQAABAAAAAABAAAAAAAAAAEAAAIAAAAAAQAACgAAAAABAAAEAAAAAAEAAAAAAAAAAQAAAgAAAAABAAAKAAAAAAEAAAQAAAAAAQAAAAAAAAABAAACAAAAAAEAAAoAAAAAAQAABAAAAAABAAAAAAAAAAEAAAIAAAAAAQAACgAAAAABAAAEAAAAAAEAAAAAAAAAAQAAAgAAAAABAAAKAAAAAAEAAAQAAAAAAQAAAAAAAAABAAACAAAAAAEAAAoAAAAAAQAABAAAAAABAAAAAAAAAAEAAAIAAAAAAQAACgAAAAABAAAEAAAAAAEAAAAAAAAAAQAAAgAAAAABAAAKAAAAAAEAAAQAAAAAAQAAAAAAAAABAAACAAAAAAEAAAoAAAAAAQAABAAAAAABAAAAAAAAAAEAAAIAAAAAAQAACgAAAAABAAAEAAAAAAEAAAAAAAAAAQAAAgAAAAABAAAKAAAAAAEAAAQAAAAAAQAAAAAAAAABAAACAAAAAAEAAAoAAAAAAQAABAAAAAABAAAAAAAAAAEAAAIAAAAAAQAACgAAAAABAAAEAAAAAAEAAAAAAAAAAQAAAgAAAAABAAAKAAAAAAEAAAQAAAAAAQAAAAAAAAABAAACAAAAAAEAAAoAAAAAAQAABAAAAAABAAAAAAAAAAEAAAIAAAAAAQAACgAAAAABAAAEAAAAAAEAAAAAAAAAAQAAAgAAAAABAAAKAAAAAAEAAAQAAAAAAQAAAAAAAAABAAACAAAAAAEAAAoAAAAAAQAABAAAAAABAAAAAAAAAAEAAAIAAAAAAQAACgAAAAABAAAEAAAAAAEAAAAAAAAAAQAAAgAAAAABAAAKAAAAAAEAAAQAAAAAAQAAAAAAAAABAAACAAAAAAEAAAoAAAAAAQAABAAAAAABAAAAAAAAAAEAAAIAAAAAAQAACgAAAAABAAAEAAAAAAEAAAAAAAAAAQAAAgAAAAABAAAKAAAAAAEAAAQAAAAAAQAAAAAAAAABAAACAAAAAAEAAAoAAAAAAQAABAAAAAABAAAAAAAAAAEAAAIAAAAAAQAACgAAAAABAAAEAAAAAAEAAAAAAAAAAQAAAgAAAAABAAAKAAAAAAEAAAQAAAAAAQAAAAAAAAABAAACAAAAAAEAAAoAAAAAAQAABAAAAAABAAAAAAAAAAEAAAIAAAAAAQAACgAAAAABAAAEAAAAAAEAAAAAAAAAAQAAAgAAAAABAAAKAAAAAAEAAAQAAAAAAQAAAAAAAAABAAACAAAAAAEAAAoAAAAAAQAABAAAAAABAAAAAAAAAAEAAAIAAAAAAQAACgAAAAABAAAEAAAAAAEAAAAAAAAAAQAAAgAAAAABAAAIAAAAAAIAAAIAAAAAHHN0c2MAAAAAAAAAAQAAAAEAAADKAAAAAQAAAzxzdHN6AAAAAAAAAAAAAADKAAAGAwAAABcAAAAgAAAAFAAAAB8AAAAWAAAAFAAAACEAAAAUAAAAHQAAAC4AAAAZAAAAEwAAABQAAAAdAAAAHQAAAB0AAAAjAAAAFwAAABQAAAAgAAAAJAAAABQAAAAtAAAAFwAAABQAAAAgAAAAJgAAABoAAAAUAAAAFAAAACEAAAAUAAAAHAAAABwAAAAcAAAAHAAAAB0AAAAhAAAAFAAAABwAAAAdAAAAIgAAABQAAAArAAAAFwAAABQAAAAdAAAAIwAAABYAAAAUAAAAJgAAABoAAAATAAAAEwAAABcAAAAQAAAAFAAAABQAAAAXAAAAEAAAABQAAAAUAAAAFwAAABAAAAAUAAAAFAAAABcAAAAQAAAAFAAAABQAAAAXAAAAEAAAABQAAAAUAAAAFwAAABAAAAAUAAAAFAAAABcAAAAQAAAAFAAAABQAAAAXAAAAEAAAABQAAAAUAAAAFwAAABAAAAAUAAAAFAAAABcAAAAQAAAAFAAAABQAAAAXAAAAEAAAABQAAAAUAAAAFwAAABAAAAAUAAAAFAAAABcAAAAQAAAAFAAAABQAAAAXAAAAEAAAABQAAAAUAAAAFwAAABAAAAAUAAAAFAAAABcAAAAQAAAAFAAAABQAAAAXAAAAEAAAABQAAAAUAAAAFwAAABAAAAAUAAAAFAAAABcAAAAQAAAAFAAAABQAAAAXAAAAEAAAABQAAAAUAAAAFwAAABAAAAAUAAAAFAAAABcAAAAQAAAAFAAAABQAAAAXAAAAEAAAABQAAAAUAAAAFwAAABAAAAAUAAAAFAAAABcAAAAQAAAAFAAAABQAAAAXAAAAEAAAABQAAAAUAAAAFwAAABAAAAAUAAAAFAAAABcAAAAQAAAAFAAAABQAAAAXAAAAEAAAABQAAAAUAAAAFwAAABAAAAAUAAAAFAAAABcAAAAQAAAAFAAAABQAAAAXAAAAEAAAABQAAAAUAAAAFwAAABAAAAAUAAAAFAAAABcAAAAQAAAAFAAAABQAAAAWAAAAEAAAABQAAAAUAAAAFgAAABAAAAAUAAAAFAAAAB4AAAAsAAAAJwAAABRzdGNvAAAAAAAAAAEAAAAwAAAAYnVkdGEAAABabWV0YQAAAAAAAAAhaGRscgAAAAAAAAAAbWRpcmFwcGwAAAAAAAAAAAAAAAAtaWxzdAAAACWpdG9vAAAAHWRhdGEAAAABAAAAAExhdmY1OC4yOS4xMDA=\" type=\"video/mp4\" />\n",
       "             </video>"
      ],
      "text/plain": [
       "<IPython.core.display.HTML object>"
      ]
     },
     "execution_count": 33,
     "metadata": {},
     "output_type": "execute_result"
    }
   ],
   "source": [
    "# Evaluation\n",
    "test(agent, env, epochs_test, prefix='cnn_test_explore')\n",
    "HTML(display_videos('cnn_test_explore10.mp4'))"
   ]
  },
  {
   "cell_type": "markdown",
   "metadata": {},
   "source": [
    "> This approach works impressively well ! Indeed there is a local minimum in our original approach which needed to be avoided : since the model itself tries to be confident about its prediction somehow, one can think of the situation in which the mouse goes back and forth on 2 possible positions. Indeed, it will predict that the expected future reward is 0, which is true since it doesn't explore anymore and thus with a current reward of 0 and a future reward of 0, the model is able to predict very precisely its future and thus is in a local minimum. We need to avoid this situation by forcing an exploration. We need to put a high exploration parameter at first and then decrease it when the model has enough data to train on. The other part of the new approach deals with giving a minus reward when coming back on visited locations, which is great since the model is not able to predict the future reward precisely (infinite instead of 0)."
   ]
  },
  {
   "cell_type": "markdown",
   "metadata": {},
   "source": [
    " "
   ]
  },
  {
   "cell_type": "markdown",
   "metadata": {},
   "source": [
    " "
   ]
  },
  {
   "cell_type": "markdown",
   "metadata": {},
   "source": [
    " "
   ]
  },
  {
   "cell_type": "markdown",
   "metadata": {},
   "source": [
    " "
   ]
  },
  {
   "cell_type": "markdown",
   "metadata": {},
   "source": [
    "---\n",
    "---\n",
    "---\n",
    "# Adaptive Environment"
   ]
  },
  {
   "cell_type": "markdown",
   "metadata": {},
   "source": [
    "To be tested :\n",
    "- Modify the environment itself :\n",
    "    - Translation of the board every T time step by a factor to be set as parameter\n",
    "    - Based on what the rat eats, his vision can increase in dimension\n",
    "    - New rewards pop on the board based on the rat's actions\n",
    "    - Random flip of the board based on a central/axial symmetry every T time step.\n",
    "    - New random board at every time step. (should break the algorithm and actually be pretty interesting considering the fact that the DQN approach with a CNN tries to be confident over its predictions... How can it be in this situation ?)\n",
    "- Rewards follow a distribution of probability rather than being fixed : cheese ~ N(0.5, 1) | poison ~ N(-1, 0.5) for instance.\n",
    "- Adverse environnement (environnement acts against the player). Implement and explore the Exp3 algorithm and compare it to the UCB1 one."
   ]
  },
  {
   "cell_type": "code",
   "execution_count": 39,
   "metadata": {},
   "outputs": [],
   "source": [
    "class Adaptive_Environment(Environment):\n",
    "    def __init__(self, *args, grid_size=13, max_time=200, temperature=0.3, transform_board=None, **kwargs):\n",
    "        super(Adaptive_Environment, self).__init__(*args,grid_size=grid_size, max_time=max_time, \n",
    "                                                   temperature=temperature,**kwargs)\n",
    "        \n",
    "        self.transform_board = transform_board\n",
    "\n",
    "    def modify_board(self):\n",
    "        \"\"\"This function modifies the board itself. It should use self.t and self.board.\n",
    "        To do so, we consider the transform_board function passed to the adaptative environment.\n",
    "        Such a function should take as input the arguments of `self` and return the new board.\n",
    "        \"\"\"\n",
    "        if self.transform_board is not None:\n",
    "            self.board = self.transform_board(infos=self)\n",
    "        else:\n",
    "            pass"
   ]
  },
  {
   "cell_type": "code",
   "execution_count": 40,
   "metadata": {},
   "outputs": [],
   "source": [
    "def board_translation(infos, time_step=1, amplitude=1):\n",
    "    \"\"\"Translate the board\n",
    "    \n",
    "    input :\n",
    "    -----\n",
    "        infos : parser\n",
    "            An object containing informations about the environment (it is the self object from the class)\n",
    "        time_step : int\n",
    "            Frequency at which we want to modify the board.\n",
    "        amplitude : int\n",
    "            Number of columns (or rows, it doesn't matter given the symmetry of the game) to consider\n",
    "            to shift the board.\n",
    "            \n",
    "    output :\n",
    "    ------\n",
    "        a new version of the board contained in the object self\n",
    "    \"\"\"\n",
    "    board = infos.board\n",
    "    if infos.t%time_step==0: # done after self.t += 1 so the case t=0 doesn't need to be considered\n",
    "        # for instance with an amplitude of 2 : board[:, 2:] = board[:, :-2] | board[:, :2] = board[:, -2:]\n",
    "        board[:, amplitude:], board[:, :amplitude] = board[:, :-amplitude], board[:, -amplitude:]\n",
    "    return board"
   ]
  },
  {
   "cell_type": "code",
   "execution_count": 43,
   "metadata": {},
   "outputs": [
    {
     "name": "stdout",
     "output_type": "stream",
     "text": [
      "Epoch 001/001 | Loss 0.0106 | Win/lose count 4.1/14.899999999999999 (-10.799999999999999)\n"
     ]
    },
    {
     "data": {
      "text/html": [
       "<video alt=\"test\" controls>\n",
       "                <source src=\"data:video/mp4;base64,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\" type=\"video/mp4\" />\n",
       "             </video>"
      ],
      "text/plain": [
       "<IPython.core.display.HTML object>"
      ]
     },
     "execution_count": 43,
     "metadata": {},
     "output_type": "execute_result"
    }
   ],
   "source": [
    "K.clear_session()\n",
    "translated_env = Adaptive_Environment(grid_size=size, max_time=T, temperature=0.3, immob_penalty=0.1,\n",
    "                                      transform_board=board_translation)\n",
    "agent = DQN_CNN(size, lr=.001, epsilon=0.3, memory_size=2000, batch_size=32, n_state=3)\n",
    "train(agent, translated_env, epoch=1, eps_decay=0.5, eps_step=3, freq_video=1, prefix='translate_env')\n",
    "HTML(display_videos('translate_env_explore_1.mp4'))"
   ]
  },
  {
   "cell_type": "code",
   "execution_count": null,
   "metadata": {},
   "outputs": [],
   "source": []
  }
 ],
 "metadata": {
  "kernelspec": {
   "display_name": "Python 3",
   "language": "python",
   "name": "python3"
  },
  "language_info": {
   "codemirror_mode": {
    "name": "ipython",
    "version": 3
   },
   "file_extension": ".py",
   "mimetype": "text/x-python",
   "name": "python",
   "nbconvert_exporter": "python",
   "pygments_lexer": "ipython3",
   "version": "3.6.9"
  }
 },
 "nbformat": 4,
 "nbformat_minor": 2
}
